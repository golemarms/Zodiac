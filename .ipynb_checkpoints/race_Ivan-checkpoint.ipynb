{
 "cells": [
  {
   "cell_type": "markdown",
   "metadata": {},
   "source": [
    "# Zodiac Race"
   ]
  },
  {
   "cell_type": "markdown",
   "metadata": {},
   "source": [
    "## Initial setup"
   ]
  },
  {
   "cell_type": "code",
   "execution_count": 1,
   "metadata": {
    "_uuid": "ba44df08389a6574049bb67a7e0b9cda80b4ee3c"
   },
   "outputs": [],
   "source": [
    "#Import the relevant libraries\n",
    "import pickle\n",
    "import pandas as pd\n",
    "import numpy as np\n",
    "import matplotlib.pyplot as plt\n",
    "%matplotlib inline"
   ]
  },
  {
   "cell_type": "markdown",
   "metadata": {},
   "source": [
    "## Read the files\n",
    "\n",
    "First, we import the csv file and determine the column that contains 'ABCDE'"
   ]
  },
  {
   "cell_type": "code",
   "execution_count": 2,
   "metadata": {
    "_uuid": "ba44df08389a6574049bb67a7e0b9cda80b4ee3c"
   },
   "outputs": [],
   "source": [
    "#Import csv files\n",
    "z_file = \"./The_Zodiac_Race_Challenge_Dataset.csv\"\n",
    "z_df = pd.read_csv(z_file)"
   ]
  },
  {
   "cell_type": "code",
   "execution_count": 3,
   "metadata": {},
   "outputs": [
    {
     "data": {
      "text/html": [
       "<div>\n",
       "<style scoped>\n",
       "    .dataframe tbody tr th:only-of-type {\n",
       "        vertical-align: middle;\n",
       "    }\n",
       "\n",
       "    .dataframe tbody tr th {\n",
       "        vertical-align: top;\n",
       "    }\n",
       "\n",
       "    .dataframe thead th {\n",
       "        text-align: right;\n",
       "    }\n",
       "</style>\n",
       "<table border=\"1\" class=\"dataframe\">\n",
       "  <thead>\n",
       "    <tr style=\"text-align: right;\">\n",
       "      <th></th>\n",
       "      <th>Desert</th>\n",
       "      <th>Mountain</th>\n",
       "      <th>Water</th>\n",
       "      <th>Land</th>\n",
       "      <th>Forest</th>\n",
       "      <th>Snow</th>\n",
       "      <th>Average_Temperature</th>\n",
       "      <th>Is_Raining</th>\n",
       "      <th>Had_A_Good_Sleep</th>\n",
       "      <th>Winner</th>\n",
       "      <th>Winner_Time</th>\n",
       "      <th>Second</th>\n",
       "      <th>Second_Time</th>\n",
       "      <th>Third</th>\n",
       "      <th>Third_Time</th>\n",
       "    </tr>\n",
       "  </thead>\n",
       "  <tbody>\n",
       "    <tr>\n",
       "      <th>0</th>\n",
       "      <td>7376</td>\n",
       "      <td>4387</td>\n",
       "      <td>7769</td>\n",
       "      <td>7374</td>\n",
       "      <td>814</td>\n",
       "      <td>2677</td>\n",
       "      <td>18</td>\n",
       "      <td>Yes</td>\n",
       "      <td>Yes</td>\n",
       "      <td>rat</td>\n",
       "      <td>218</td>\n",
       "      <td>dog</td>\n",
       "      <td>242</td>\n",
       "      <td>dragon</td>\n",
       "      <td>245</td>\n",
       "    </tr>\n",
       "    <tr>\n",
       "      <th>1</th>\n",
       "      <td>7911</td>\n",
       "      <td>5771</td>\n",
       "      <td>4993</td>\n",
       "      <td>1855</td>\n",
       "      <td>9605</td>\n",
       "      <td>283</td>\n",
       "      <td>18</td>\n",
       "      <td>Yes</td>\n",
       "      <td>Yes</td>\n",
       "      <td>tiger</td>\n",
       "      <td>216</td>\n",
       "      <td>snake</td>\n",
       "      <td>224</td>\n",
       "      <td>rat</td>\n",
       "      <td>239</td>\n",
       "    </tr>\n",
       "    <tr>\n",
       "      <th>2</th>\n",
       "      <td>8948</td>\n",
       "      <td>9631</td>\n",
       "      <td>1855</td>\n",
       "      <td>4913</td>\n",
       "      <td>3531</td>\n",
       "      <td>3746</td>\n",
       "      <td>39</td>\n",
       "      <td>Yes</td>\n",
       "      <td>No</td>\n",
       "      <td>ox</td>\n",
       "      <td>191</td>\n",
       "      <td>rabbit</td>\n",
       "      <td>217</td>\n",
       "      <td>horse</td>\n",
       "      <td>240</td>\n",
       "    </tr>\n",
       "    <tr>\n",
       "      <th>3</th>\n",
       "      <td>1735</td>\n",
       "      <td>6643</td>\n",
       "      <td>6066</td>\n",
       "      <td>9976</td>\n",
       "      <td>9119</td>\n",
       "      <td>9912</td>\n",
       "      <td>24</td>\n",
       "      <td>Yes</td>\n",
       "      <td>No</td>\n",
       "      <td>goat</td>\n",
       "      <td>319</td>\n",
       "      <td>rooster</td>\n",
       "      <td>322</td>\n",
       "      <td>horse</td>\n",
       "      <td>334</td>\n",
       "    </tr>\n",
       "    <tr>\n",
       "      <th>4</th>\n",
       "      <td>2001</td>\n",
       "      <td>8287</td>\n",
       "      <td>4062</td>\n",
       "      <td>8763</td>\n",
       "      <td>9751</td>\n",
       "      <td>2820</td>\n",
       "      <td>26</td>\n",
       "      <td>Yes</td>\n",
       "      <td>Yes</td>\n",
       "      <td>horse</td>\n",
       "      <td>255</td>\n",
       "      <td>goat</td>\n",
       "      <td>259</td>\n",
       "      <td>rooster</td>\n",
       "      <td>263</td>\n",
       "    </tr>\n",
       "  </tbody>\n",
       "</table>\n",
       "</div>"
      ],
      "text/plain": [
       "   Desert  Mountain  Water  Land  Forest  Snow  Average_Temperature  \\\n",
       "0    7376      4387   7769  7374     814  2677                   18   \n",
       "1    7911      5771   4993  1855    9605   283                   18   \n",
       "2    8948      9631   1855  4913    3531  3746                   39   \n",
       "3    1735      6643   6066  9976    9119  9912                   24   \n",
       "4    2001      8287   4062  8763    9751  2820                   26   \n",
       "\n",
       "  Is_Raining Had_A_Good_Sleep Winner  Winner_Time   Second  Second_Time  \\\n",
       "0        Yes              Yes    rat          218      dog          242   \n",
       "1        Yes              Yes  tiger          216    snake          224   \n",
       "2        Yes               No     ox          191   rabbit          217   \n",
       "3        Yes               No   goat          319  rooster          322   \n",
       "4        Yes              Yes  horse          255     goat          259   \n",
       "\n",
       "     Third  Third_Time  \n",
       "0   dragon         245  \n",
       "1      rat         239  \n",
       "2    horse         240  \n",
       "3    horse         334  \n",
       "4  rooster         263  "
      ]
     },
     "execution_count": 3,
     "metadata": {},
     "output_type": "execute_result"
    }
   ],
   "source": [
    "z_df.head()"
   ]
  },
  {
   "cell_type": "code",
   "execution_count": 4,
   "metadata": {
    "scrolled": true
   },
   "outputs": [
    {
     "name": "stdout",
     "output_type": "stream",
     "text": [
      "['Had_A_Good_Sleep']\n"
     ]
    },
    {
     "name": "stderr",
     "output_type": "stream",
     "text": [
      "C:\\Users\\Ivan\\Anaconda3\\lib\\site-packages\\ipykernel_launcher.py:2: FutureWarning: elementwise comparison failed; returning scalar instead, but in the future will perform elementwise comparison\n",
      "  \n"
     ]
    }
   ],
   "source": [
    "# Find column that contains'ABCDE'\n",
    "bad_cols = [col for col in z_df.columns if 'ABCDE' in z_df[col].values]\n",
    "print(bad_cols)"
   ]
  },
  {
   "cell_type": "code",
   "execution_count": 5,
   "metadata": {
    "_uuid": "ba44df08389a6574049bb67a7e0b9cda80b4ee3c"
   },
   "outputs": [],
   "source": [
    "# Remove bad col\n",
    "z_df.drop(bad_cols, axis=1, inplace=True)"
   ]
  },
  {
   "cell_type": "code",
   "execution_count": 6,
   "metadata": {
    "_uuid": "ba44df08389a6574049bb67a7e0b9cda80b4ee3c"
   },
   "outputs": [],
   "source": [
    "# Separate input variables (X) from output variables (Y) \n",
    "\n",
    "X = z_df.iloc[:, :8]\n",
    "Y = z_df.iloc[:, 8:]"
   ]
  },
  {
   "cell_type": "code",
   "execution_count": 7,
   "metadata": {},
   "outputs": [
    {
     "data": {
      "text/html": [
       "<div>\n",
       "<style scoped>\n",
       "    .dataframe tbody tr th:only-of-type {\n",
       "        vertical-align: middle;\n",
       "    }\n",
       "\n",
       "    .dataframe tbody tr th {\n",
       "        vertical-align: top;\n",
       "    }\n",
       "\n",
       "    .dataframe thead th {\n",
       "        text-align: right;\n",
       "    }\n",
       "</style>\n",
       "<table border=\"1\" class=\"dataframe\">\n",
       "  <thead>\n",
       "    <tr style=\"text-align: right;\">\n",
       "      <th></th>\n",
       "      <th>Desert</th>\n",
       "      <th>Mountain</th>\n",
       "      <th>Water</th>\n",
       "      <th>Land</th>\n",
       "      <th>Forest</th>\n",
       "      <th>Snow</th>\n",
       "      <th>Average_Temperature</th>\n",
       "      <th>Is_Raining</th>\n",
       "    </tr>\n",
       "  </thead>\n",
       "  <tbody>\n",
       "    <tr>\n",
       "      <th>0</th>\n",
       "      <td>7376</td>\n",
       "      <td>4387</td>\n",
       "      <td>7769</td>\n",
       "      <td>7374</td>\n",
       "      <td>814</td>\n",
       "      <td>2677</td>\n",
       "      <td>18</td>\n",
       "      <td>Yes</td>\n",
       "    </tr>\n",
       "    <tr>\n",
       "      <th>1</th>\n",
       "      <td>7911</td>\n",
       "      <td>5771</td>\n",
       "      <td>4993</td>\n",
       "      <td>1855</td>\n",
       "      <td>9605</td>\n",
       "      <td>283</td>\n",
       "      <td>18</td>\n",
       "      <td>Yes</td>\n",
       "    </tr>\n",
       "    <tr>\n",
       "      <th>2</th>\n",
       "      <td>8948</td>\n",
       "      <td>9631</td>\n",
       "      <td>1855</td>\n",
       "      <td>4913</td>\n",
       "      <td>3531</td>\n",
       "      <td>3746</td>\n",
       "      <td>39</td>\n",
       "      <td>Yes</td>\n",
       "    </tr>\n",
       "    <tr>\n",
       "      <th>3</th>\n",
       "      <td>1735</td>\n",
       "      <td>6643</td>\n",
       "      <td>6066</td>\n",
       "      <td>9976</td>\n",
       "      <td>9119</td>\n",
       "      <td>9912</td>\n",
       "      <td>24</td>\n",
       "      <td>Yes</td>\n",
       "    </tr>\n",
       "    <tr>\n",
       "      <th>4</th>\n",
       "      <td>2001</td>\n",
       "      <td>8287</td>\n",
       "      <td>4062</td>\n",
       "      <td>8763</td>\n",
       "      <td>9751</td>\n",
       "      <td>2820</td>\n",
       "      <td>26</td>\n",
       "      <td>Yes</td>\n",
       "    </tr>\n",
       "  </tbody>\n",
       "</table>\n",
       "</div>"
      ],
      "text/plain": [
       "   Desert  Mountain  Water  Land  Forest  Snow  Average_Temperature Is_Raining\n",
       "0    7376      4387   7769  7374     814  2677                   18        Yes\n",
       "1    7911      5771   4993  1855    9605   283                   18        Yes\n",
       "2    8948      9631   1855  4913    3531  3746                   39        Yes\n",
       "3    1735      6643   6066  9976    9119  9912                   24        Yes\n",
       "4    2001      8287   4062  8763    9751  2820                   26        Yes"
      ]
     },
     "execution_count": 7,
     "metadata": {},
     "output_type": "execute_result"
    }
   ],
   "source": [
    "X.head()"
   ]
  },
  {
   "cell_type": "code",
   "execution_count": 8,
   "metadata": {},
   "outputs": [
    {
     "data": {
      "text/html": [
       "<div>\n",
       "<style scoped>\n",
       "    .dataframe tbody tr th:only-of-type {\n",
       "        vertical-align: middle;\n",
       "    }\n",
       "\n",
       "    .dataframe tbody tr th {\n",
       "        vertical-align: top;\n",
       "    }\n",
       "\n",
       "    .dataframe thead th {\n",
       "        text-align: right;\n",
       "    }\n",
       "</style>\n",
       "<table border=\"1\" class=\"dataframe\">\n",
       "  <thead>\n",
       "    <tr style=\"text-align: right;\">\n",
       "      <th></th>\n",
       "      <th>Winner</th>\n",
       "      <th>Winner_Time</th>\n",
       "      <th>Second</th>\n",
       "      <th>Second_Time</th>\n",
       "      <th>Third</th>\n",
       "      <th>Third_Time</th>\n",
       "    </tr>\n",
       "  </thead>\n",
       "  <tbody>\n",
       "    <tr>\n",
       "      <th>0</th>\n",
       "      <td>rat</td>\n",
       "      <td>218</td>\n",
       "      <td>dog</td>\n",
       "      <td>242</td>\n",
       "      <td>dragon</td>\n",
       "      <td>245</td>\n",
       "    </tr>\n",
       "    <tr>\n",
       "      <th>1</th>\n",
       "      <td>tiger</td>\n",
       "      <td>216</td>\n",
       "      <td>snake</td>\n",
       "      <td>224</td>\n",
       "      <td>rat</td>\n",
       "      <td>239</td>\n",
       "    </tr>\n",
       "    <tr>\n",
       "      <th>2</th>\n",
       "      <td>ox</td>\n",
       "      <td>191</td>\n",
       "      <td>rabbit</td>\n",
       "      <td>217</td>\n",
       "      <td>horse</td>\n",
       "      <td>240</td>\n",
       "    </tr>\n",
       "    <tr>\n",
       "      <th>3</th>\n",
       "      <td>goat</td>\n",
       "      <td>319</td>\n",
       "      <td>rooster</td>\n",
       "      <td>322</td>\n",
       "      <td>horse</td>\n",
       "      <td>334</td>\n",
       "    </tr>\n",
       "    <tr>\n",
       "      <th>4</th>\n",
       "      <td>horse</td>\n",
       "      <td>255</td>\n",
       "      <td>goat</td>\n",
       "      <td>259</td>\n",
       "      <td>rooster</td>\n",
       "      <td>263</td>\n",
       "    </tr>\n",
       "  </tbody>\n",
       "</table>\n",
       "</div>"
      ],
      "text/plain": [
       "  Winner  Winner_Time   Second  Second_Time    Third  Third_Time\n",
       "0    rat          218      dog          242   dragon         245\n",
       "1  tiger          216    snake          224      rat         239\n",
       "2     ox          191   rabbit          217    horse         240\n",
       "3   goat          319  rooster          322    horse         334\n",
       "4  horse          255     goat          259  rooster         263"
      ]
     },
     "execution_count": 8,
     "metadata": {},
     "output_type": "execute_result"
    }
   ],
   "source": [
    "Y.head()"
   ]
  },
  {
   "cell_type": "code",
   "execution_count": 9,
   "metadata": {
    "_uuid": "ba44df08389a6574049bb67a7e0b9cda80b4ee3c"
   },
   "outputs": [],
   "source": [
    "animal_list = ['rat', 'ox', 'tiger', 'rabbit', 'dragon', 'snake', \n",
    "               'horse', 'goat', 'monkey', 'rooster', 'dog', 'pig']\n",
    "\n",
    "top_3 = ['Winner', 'Second', 'Third']\n",
    "\n",
    "#Generate df (one-hot encoded) indicating whether each animal (column) finishes in the top 3\n",
    "\n",
    "Y_top3 = pd.DataFrame({animal:z_df[top_3].isin([animal]).apply(sum, axis=1) for animal in animal_list}).astype(int)"
   ]
  },
  {
   "cell_type": "code",
   "execution_count": 10,
   "metadata": {
    "_uuid": "ba44df08389a6574049bb67a7e0b9cda80b4ee3c"
   },
   "outputs": [
    {
     "data": {
      "text/html": [
       "<div>\n",
       "<style scoped>\n",
       "    .dataframe tbody tr th:only-of-type {\n",
       "        vertical-align: middle;\n",
       "    }\n",
       "\n",
       "    .dataframe tbody tr th {\n",
       "        vertical-align: top;\n",
       "    }\n",
       "\n",
       "    .dataframe thead th {\n",
       "        text-align: right;\n",
       "    }\n",
       "</style>\n",
       "<table border=\"1\" class=\"dataframe\">\n",
       "  <thead>\n",
       "    <tr style=\"text-align: right;\">\n",
       "      <th></th>\n",
       "      <th>rat</th>\n",
       "      <th>ox</th>\n",
       "      <th>tiger</th>\n",
       "      <th>rabbit</th>\n",
       "      <th>dragon</th>\n",
       "      <th>snake</th>\n",
       "      <th>horse</th>\n",
       "      <th>goat</th>\n",
       "      <th>monkey</th>\n",
       "      <th>rooster</th>\n",
       "      <th>dog</th>\n",
       "      <th>pig</th>\n",
       "    </tr>\n",
       "  </thead>\n",
       "  <tbody>\n",
       "    <tr>\n",
       "      <th>0</th>\n",
       "      <td>1</td>\n",
       "      <td>0</td>\n",
       "      <td>0</td>\n",
       "      <td>0</td>\n",
       "      <td>1</td>\n",
       "      <td>0</td>\n",
       "      <td>0</td>\n",
       "      <td>0</td>\n",
       "      <td>0</td>\n",
       "      <td>0</td>\n",
       "      <td>1</td>\n",
       "      <td>0</td>\n",
       "    </tr>\n",
       "    <tr>\n",
       "      <th>1</th>\n",
       "      <td>1</td>\n",
       "      <td>0</td>\n",
       "      <td>1</td>\n",
       "      <td>0</td>\n",
       "      <td>0</td>\n",
       "      <td>1</td>\n",
       "      <td>0</td>\n",
       "      <td>0</td>\n",
       "      <td>0</td>\n",
       "      <td>0</td>\n",
       "      <td>0</td>\n",
       "      <td>0</td>\n",
       "    </tr>\n",
       "    <tr>\n",
       "      <th>2</th>\n",
       "      <td>0</td>\n",
       "      <td>1</td>\n",
       "      <td>0</td>\n",
       "      <td>1</td>\n",
       "      <td>0</td>\n",
       "      <td>0</td>\n",
       "      <td>1</td>\n",
       "      <td>0</td>\n",
       "      <td>0</td>\n",
       "      <td>0</td>\n",
       "      <td>0</td>\n",
       "      <td>0</td>\n",
       "    </tr>\n",
       "    <tr>\n",
       "      <th>3</th>\n",
       "      <td>0</td>\n",
       "      <td>0</td>\n",
       "      <td>0</td>\n",
       "      <td>0</td>\n",
       "      <td>0</td>\n",
       "      <td>0</td>\n",
       "      <td>1</td>\n",
       "      <td>1</td>\n",
       "      <td>0</td>\n",
       "      <td>1</td>\n",
       "      <td>0</td>\n",
       "      <td>0</td>\n",
       "    </tr>\n",
       "    <tr>\n",
       "      <th>4</th>\n",
       "      <td>0</td>\n",
       "      <td>0</td>\n",
       "      <td>0</td>\n",
       "      <td>0</td>\n",
       "      <td>0</td>\n",
       "      <td>0</td>\n",
       "      <td>1</td>\n",
       "      <td>1</td>\n",
       "      <td>0</td>\n",
       "      <td>1</td>\n",
       "      <td>0</td>\n",
       "      <td>0</td>\n",
       "    </tr>\n",
       "  </tbody>\n",
       "</table>\n",
       "</div>"
      ],
      "text/plain": [
       "   rat  ox  tiger  rabbit  dragon  snake  horse  goat  monkey  rooster  dog  \\\n",
       "0    1   0      0       0       1      0      0     0       0        0    1   \n",
       "1    1   0      1       0       0      1      0     0       0        0    0   \n",
       "2    0   1      0       1       0      0      1     0       0        0    0   \n",
       "3    0   0      0       0       0      0      1     1       0        1    0   \n",
       "4    0   0      0       0       0      0      1     1       0        1    0   \n",
       "\n",
       "   pig  \n",
       "0    0  \n",
       "1    0  \n",
       "2    0  \n",
       "3    0  \n",
       "4    0  "
      ]
     },
     "execution_count": 10,
     "metadata": {},
     "output_type": "execute_result"
    }
   ],
   "source": [
    "Y_top3.head()"
   ]
  },
  {
   "cell_type": "markdown",
   "metadata": {
    "_uuid": "ba44df08389a6574049bb67a7e0b9cda80b4ee3c"
   },
   "source": [
    "# Data preprocessing"
   ]
  },
  {
   "cell_type": "markdown",
   "metadata": {
    "_uuid": "ba44df08389a6574049bb67a7e0b9cda80b4ee3c"
   },
   "source": [
    "## Engineer Features"
   ]
  },
  {
   "cell_type": "code",
   "execution_count": 11,
   "metadata": {
    "_uuid": "ba44df08389a6574049bb67a7e0b9cda80b4ee3c"
   },
   "outputs": [],
   "source": [
    "# Total distance:\n",
    "X.eval('Total_distance = Desert + Mountain + Water + Land + Forest + Snow', inplace= True)\n",
    "# Convert Yes/No to 1/0\n",
    "X['Is_Raining'] = X['Is_Raining'].map({'Yes':1, 'No':0}) \n",
    "\n",
    "# scale data\n",
    "X_scaled = (X - X.min()) / (X.max() - X.min())\n",
    "# X_scaled = (X - X.mean())/X.std()"
   ]
  },
  {
   "cell_type": "code",
   "execution_count": 12,
   "metadata": {
    "_uuid": "3558e4d6beee9e902ee5e4c081adcec91cbd146b"
   },
   "outputs": [],
   "source": [
    "from sklearn.model_selection import train_test_split\n",
    "\n",
    "from sklearn.model_selection import StratifiedShuffleSplit\n",
    "from sklearn.metrics import accuracy_score, log_loss\n",
    "from sklearn.neighbors import KNeighborsClassifier\n",
    "from sklearn.svm import SVC\n",
    "from sklearn.tree import DecisionTreeClassifier\n",
    "from sklearn.ensemble import RandomForestClassifier, AdaBoostClassifier, GradientBoostingClassifier\n",
    "from sklearn.naive_bayes import GaussianNB\n",
    "from sklearn.discriminant_analysis import LinearDiscriminantAnalysis, QuadraticDiscriminantAnalysis\n",
    "from sklearn.linear_model import LogisticRegression\n",
    "import copy"
   ]
  },
  {
   "cell_type": "code",
   "execution_count": 13,
   "metadata": {},
   "outputs": [
    {
     "data": {
      "text/html": [
       "<div>\n",
       "<style scoped>\n",
       "    .dataframe tbody tr th:only-of-type {\n",
       "        vertical-align: middle;\n",
       "    }\n",
       "\n",
       "    .dataframe tbody tr th {\n",
       "        vertical-align: top;\n",
       "    }\n",
       "\n",
       "    .dataframe thead th {\n",
       "        text-align: right;\n",
       "    }\n",
       "</style>\n",
       "<table border=\"1\" class=\"dataframe\">\n",
       "  <thead>\n",
       "    <tr style=\"text-align: right;\">\n",
       "      <th></th>\n",
       "      <th>Winner</th>\n",
       "      <th>Winner_Time</th>\n",
       "      <th>Second</th>\n",
       "      <th>Second_Time</th>\n",
       "      <th>Third</th>\n",
       "      <th>Third_Time</th>\n",
       "    </tr>\n",
       "  </thead>\n",
       "  <tbody>\n",
       "    <tr>\n",
       "      <th>0</th>\n",
       "      <td>rat</td>\n",
       "      <td>218</td>\n",
       "      <td>dog</td>\n",
       "      <td>242</td>\n",
       "      <td>dragon</td>\n",
       "      <td>245</td>\n",
       "    </tr>\n",
       "    <tr>\n",
       "      <th>1</th>\n",
       "      <td>tiger</td>\n",
       "      <td>216</td>\n",
       "      <td>snake</td>\n",
       "      <td>224</td>\n",
       "      <td>rat</td>\n",
       "      <td>239</td>\n",
       "    </tr>\n",
       "    <tr>\n",
       "      <th>2</th>\n",
       "      <td>ox</td>\n",
       "      <td>191</td>\n",
       "      <td>rabbit</td>\n",
       "      <td>217</td>\n",
       "      <td>horse</td>\n",
       "      <td>240</td>\n",
       "    </tr>\n",
       "    <tr>\n",
       "      <th>3</th>\n",
       "      <td>goat</td>\n",
       "      <td>319</td>\n",
       "      <td>rooster</td>\n",
       "      <td>322</td>\n",
       "      <td>horse</td>\n",
       "      <td>334</td>\n",
       "    </tr>\n",
       "    <tr>\n",
       "      <th>4</th>\n",
       "      <td>horse</td>\n",
       "      <td>255</td>\n",
       "      <td>goat</td>\n",
       "      <td>259</td>\n",
       "      <td>rooster</td>\n",
       "      <td>263</td>\n",
       "    </tr>\n",
       "  </tbody>\n",
       "</table>\n",
       "</div>"
      ],
      "text/plain": [
       "  Winner  Winner_Time   Second  Second_Time    Third  Third_Time\n",
       "0    rat          218      dog          242   dragon         245\n",
       "1  tiger          216    snake          224      rat         239\n",
       "2     ox          191   rabbit          217    horse         240\n",
       "3   goat          319  rooster          322    horse         334\n",
       "4  horse          255     goat          259  rooster         263"
      ]
     },
     "execution_count": 13,
     "metadata": {},
     "output_type": "execute_result"
    }
   ],
   "source": [
    "Y.head()"
   ]
  },
  {
   "cell_type": "code",
   "execution_count": 14,
   "metadata": {},
   "outputs": [
    {
     "data": {
      "text/html": [
       "<div>\n",
       "<style scoped>\n",
       "    .dataframe tbody tr th:only-of-type {\n",
       "        vertical-align: middle;\n",
       "    }\n",
       "\n",
       "    .dataframe tbody tr th {\n",
       "        vertical-align: top;\n",
       "    }\n",
       "\n",
       "    .dataframe thead th {\n",
       "        text-align: right;\n",
       "    }\n",
       "</style>\n",
       "<table border=\"1\" class=\"dataframe\">\n",
       "  <thead>\n",
       "    <tr style=\"text-align: right;\">\n",
       "      <th></th>\n",
       "      <th>dog</th>\n",
       "      <th>dragon</th>\n",
       "      <th>goat</th>\n",
       "      <th>horse</th>\n",
       "      <th>monkey</th>\n",
       "      <th>ox</th>\n",
       "      <th>pig</th>\n",
       "      <th>rabbit</th>\n",
       "      <th>rat</th>\n",
       "      <th>rooster</th>\n",
       "      <th>snake</th>\n",
       "      <th>tiger</th>\n",
       "    </tr>\n",
       "  </thead>\n",
       "  <tbody>\n",
       "    <tr>\n",
       "      <th>0</th>\n",
       "      <td>242</td>\n",
       "      <td>245</td>\n",
       "      <td>0</td>\n",
       "      <td>0</td>\n",
       "      <td>0</td>\n",
       "      <td>0</td>\n",
       "      <td>0</td>\n",
       "      <td>0</td>\n",
       "      <td>218</td>\n",
       "      <td>0</td>\n",
       "      <td>0</td>\n",
       "      <td>0</td>\n",
       "    </tr>\n",
       "    <tr>\n",
       "      <th>1</th>\n",
       "      <td>0</td>\n",
       "      <td>0</td>\n",
       "      <td>0</td>\n",
       "      <td>0</td>\n",
       "      <td>0</td>\n",
       "      <td>0</td>\n",
       "      <td>0</td>\n",
       "      <td>0</td>\n",
       "      <td>239</td>\n",
       "      <td>0</td>\n",
       "      <td>224</td>\n",
       "      <td>216</td>\n",
       "    </tr>\n",
       "    <tr>\n",
       "      <th>2</th>\n",
       "      <td>0</td>\n",
       "      <td>0</td>\n",
       "      <td>0</td>\n",
       "      <td>240</td>\n",
       "      <td>0</td>\n",
       "      <td>191</td>\n",
       "      <td>0</td>\n",
       "      <td>217</td>\n",
       "      <td>0</td>\n",
       "      <td>0</td>\n",
       "      <td>0</td>\n",
       "      <td>0</td>\n",
       "    </tr>\n",
       "    <tr>\n",
       "      <th>3</th>\n",
       "      <td>0</td>\n",
       "      <td>0</td>\n",
       "      <td>319</td>\n",
       "      <td>334</td>\n",
       "      <td>0</td>\n",
       "      <td>0</td>\n",
       "      <td>0</td>\n",
       "      <td>0</td>\n",
       "      <td>0</td>\n",
       "      <td>322</td>\n",
       "      <td>0</td>\n",
       "      <td>0</td>\n",
       "    </tr>\n",
       "    <tr>\n",
       "      <th>4</th>\n",
       "      <td>0</td>\n",
       "      <td>0</td>\n",
       "      <td>259</td>\n",
       "      <td>255</td>\n",
       "      <td>0</td>\n",
       "      <td>0</td>\n",
       "      <td>0</td>\n",
       "      <td>0</td>\n",
       "      <td>0</td>\n",
       "      <td>263</td>\n",
       "      <td>0</td>\n",
       "      <td>0</td>\n",
       "    </tr>\n",
       "  </tbody>\n",
       "</table>\n",
       "</div>"
      ],
      "text/plain": [
       "   dog  dragon  goat  horse  monkey   ox  pig  rabbit  rat  rooster  snake  \\\n",
       "0  242     245     0      0       0    0    0       0  218        0      0   \n",
       "1    0       0     0      0       0    0    0       0  239        0    224   \n",
       "2    0       0     0    240       0  191    0     217    0        0      0   \n",
       "3    0       0   319    334       0    0    0       0    0      322      0   \n",
       "4    0       0   259    255       0    0    0       0    0      263      0   \n",
       "\n",
       "   tiger  \n",
       "0      0  \n",
       "1    216  \n",
       "2      0  \n",
       "3      0  \n",
       "4      0  "
      ]
     },
     "execution_count": 14,
     "metadata": {},
     "output_type": "execute_result"
    }
   ],
   "source": [
    "def to_time_df(finisher_col, time_col): \n",
    "    return pd.get_dummies(finisher_col).apply( lambda x: x*time_col)\n",
    "\n",
    "time_map = {'Winner': 'Winner_Time',\n",
    "            'Second': 'Second_Time',\n",
    "            'Third': 'Third_Time'\n",
    "           }\n",
    "\n",
    "Y_time = sum([to_time_df(Y[pos_name], Y[pos_time]) for (pos_name, pos_time )in time_map.items()])[animal_list]\n",
    "\n",
    "assert sum((Y_time > 0).sum(axis=1) != 3) ==0\n",
    "Y_time.head()"
   ]
  },
  {
   "cell_type": "markdown",
   "metadata": {
    "_uuid": "c230fbc5891d6d71f4a05af0dd90fa09f965fd31"
   },
   "source": [
    "## 1st stage:\n",
    "### Predict whether each animal finishes in top 3"
   ]
  },
  {
   "cell_type": "code",
   "execution_count": 27,
   "metadata": {
    "_uuid": "c230fbc5891d6d71f4a05af0dd90fa09f965fd31"
   },
   "outputs": [],
   "source": [
    "#split into training and test sets\n",
    "X_train, X_test, Y_top3_train, Y_top3_test, Y_time_train, Y_time_test = train_test_split(X_scaled, Y_top3.astype(int), Y_time, random_state=0)"
   ]
  },
  {
   "cell_type": "code",
   "execution_count": 16,
   "metadata": {
    "_uuid": "3cc7e3275858b062355ffce823c1e91cfbf03a0c"
   },
   "outputs": [],
   "source": [
    "classifiers = [\n",
    "    KNeighborsClassifier(3),\n",
    "#     SVC(probability=True),\n",
    "    DecisionTreeClassifier(),\n",
    "    RandomForestClassifier(random_state=0),\n",
    "    AdaBoostClassifier(),\n",
    "    GradientBoostingClassifier(),\n",
    "    GaussianNB(),\n",
    "    LinearDiscriminantAnalysis(),\n",
    "#     QuadraticDiscriminantAnalysis(),\n",
    "    LogisticRegression()\n",
    "    ]\n",
    "\n",
    "\n",
    "clf_names = [clf.__class__.__name__ for clf in classifiers]"
   ]
  },
  {
   "cell_type": "code",
   "execution_count": 17,
   "metadata": {
    "_uuid": "2d37c56f9268ee7c48ee6f9d80228ee39cd83d28"
   },
   "outputs": [
    {
     "name": "stdout",
     "output_type": "stream",
     "text": [
      "fitting KNeighborsClassifier to rat \n",
      "\n",
      "fitting DecisionTreeClassifier to rat \n",
      "\n",
      "fitting RandomForestClassifier to rat \n",
      "\n"
     ]
    },
    {
     "name": "stderr",
     "output_type": "stream",
     "text": [
      "C:\\Users\\Ivan\\Anaconda3\\lib\\site-packages\\sklearn\\ensemble\\forest.py:246: FutureWarning: The default value of n_estimators will change from 10 in version 0.20 to 100 in 0.22.\n",
      "  \"10 in version 0.20 to 100 in 0.22.\", FutureWarning)\n"
     ]
    },
    {
     "name": "stdout",
     "output_type": "stream",
     "text": [
      "fitting AdaBoostClassifier to rat \n",
      "\n",
      "fitting GradientBoostingClassifier to rat \n",
      "\n",
      "fitting GaussianNB to rat \n",
      "\n",
      "fitting LinearDiscriminantAnalysis to rat \n",
      "\n",
      "fitting LogisticRegression to rat \n",
      "\n",
      "fitting KNeighborsClassifier to ox \n",
      "\n",
      "fitting DecisionTreeClassifier to ox \n",
      "\n"
     ]
    },
    {
     "name": "stderr",
     "output_type": "stream",
     "text": [
      "C:\\Users\\Ivan\\Anaconda3\\lib\\site-packages\\sklearn\\discriminant_analysis.py:388: UserWarning: Variables are collinear.\n",
      "  warnings.warn(\"Variables are collinear.\")\n",
      "C:\\Users\\Ivan\\Anaconda3\\lib\\site-packages\\sklearn\\linear_model\\logistic.py:433: FutureWarning: Default solver will be changed to 'lbfgs' in 0.22. Specify a solver to silence this warning.\n",
      "  FutureWarning)\n"
     ]
    },
    {
     "name": "stdout",
     "output_type": "stream",
     "text": [
      "fitting RandomForestClassifier to ox \n",
      "\n"
     ]
    },
    {
     "name": "stderr",
     "output_type": "stream",
     "text": [
      "C:\\Users\\Ivan\\Anaconda3\\lib\\site-packages\\sklearn\\ensemble\\forest.py:246: FutureWarning: The default value of n_estimators will change from 10 in version 0.20 to 100 in 0.22.\n",
      "  \"10 in version 0.20 to 100 in 0.22.\", FutureWarning)\n"
     ]
    },
    {
     "name": "stdout",
     "output_type": "stream",
     "text": [
      "fitting AdaBoostClassifier to ox \n",
      "\n",
      "fitting GradientBoostingClassifier to ox \n",
      "\n",
      "fitting GaussianNB to ox \n",
      "\n",
      "fitting LinearDiscriminantAnalysis to ox \n",
      "\n",
      "fitting LogisticRegression to ox \n",
      "\n",
      "fitting KNeighborsClassifier to tiger \n",
      "\n",
      "fitting DecisionTreeClassifier to tiger \n",
      "\n"
     ]
    },
    {
     "name": "stderr",
     "output_type": "stream",
     "text": [
      "C:\\Users\\Ivan\\Anaconda3\\lib\\site-packages\\sklearn\\discriminant_analysis.py:388: UserWarning: Variables are collinear.\n",
      "  warnings.warn(\"Variables are collinear.\")\n",
      "C:\\Users\\Ivan\\Anaconda3\\lib\\site-packages\\sklearn\\linear_model\\logistic.py:433: FutureWarning: Default solver will be changed to 'lbfgs' in 0.22. Specify a solver to silence this warning.\n",
      "  FutureWarning)\n"
     ]
    },
    {
     "name": "stdout",
     "output_type": "stream",
     "text": [
      "fitting RandomForestClassifier to tiger \n",
      "\n"
     ]
    },
    {
     "name": "stderr",
     "output_type": "stream",
     "text": [
      "C:\\Users\\Ivan\\Anaconda3\\lib\\site-packages\\sklearn\\ensemble\\forest.py:246: FutureWarning: The default value of n_estimators will change from 10 in version 0.20 to 100 in 0.22.\n",
      "  \"10 in version 0.20 to 100 in 0.22.\", FutureWarning)\n"
     ]
    },
    {
     "name": "stdout",
     "output_type": "stream",
     "text": [
      "fitting AdaBoostClassifier to tiger \n",
      "\n",
      "fitting GradientBoostingClassifier to tiger \n",
      "\n",
      "fitting GaussianNB to tiger \n",
      "\n",
      "fitting LinearDiscriminantAnalysis to tiger \n",
      "\n",
      "fitting LogisticRegression to tiger \n",
      "\n",
      "fitting KNeighborsClassifier to rabbit \n",
      "\n",
      "fitting DecisionTreeClassifier to rabbit \n",
      "\n"
     ]
    },
    {
     "name": "stderr",
     "output_type": "stream",
     "text": [
      "C:\\Users\\Ivan\\Anaconda3\\lib\\site-packages\\sklearn\\discriminant_analysis.py:388: UserWarning: Variables are collinear.\n",
      "  warnings.warn(\"Variables are collinear.\")\n",
      "C:\\Users\\Ivan\\Anaconda3\\lib\\site-packages\\sklearn\\linear_model\\logistic.py:433: FutureWarning: Default solver will be changed to 'lbfgs' in 0.22. Specify a solver to silence this warning.\n",
      "  FutureWarning)\n"
     ]
    },
    {
     "name": "stdout",
     "output_type": "stream",
     "text": [
      "fitting RandomForestClassifier to rabbit \n",
      "\n"
     ]
    },
    {
     "name": "stderr",
     "output_type": "stream",
     "text": [
      "C:\\Users\\Ivan\\Anaconda3\\lib\\site-packages\\sklearn\\ensemble\\forest.py:246: FutureWarning: The default value of n_estimators will change from 10 in version 0.20 to 100 in 0.22.\n",
      "  \"10 in version 0.20 to 100 in 0.22.\", FutureWarning)\n"
     ]
    },
    {
     "name": "stdout",
     "output_type": "stream",
     "text": [
      "fitting AdaBoostClassifier to rabbit \n",
      "\n",
      "fitting GradientBoostingClassifier to rabbit \n",
      "\n",
      "fitting GaussianNB to rabbit \n",
      "\n",
      "fitting LinearDiscriminantAnalysis to rabbit \n",
      "\n",
      "fitting LogisticRegression to rabbit \n",
      "\n",
      "fitting KNeighborsClassifier to dragon \n",
      "\n",
      "fitting DecisionTreeClassifier to dragon \n",
      "\n"
     ]
    },
    {
     "name": "stderr",
     "output_type": "stream",
     "text": [
      "C:\\Users\\Ivan\\Anaconda3\\lib\\site-packages\\sklearn\\discriminant_analysis.py:388: UserWarning: Variables are collinear.\n",
      "  warnings.warn(\"Variables are collinear.\")\n",
      "C:\\Users\\Ivan\\Anaconda3\\lib\\site-packages\\sklearn\\linear_model\\logistic.py:433: FutureWarning: Default solver will be changed to 'lbfgs' in 0.22. Specify a solver to silence this warning.\n",
      "  FutureWarning)\n"
     ]
    },
    {
     "name": "stdout",
     "output_type": "stream",
     "text": [
      "fitting RandomForestClassifier to dragon \n",
      "\n"
     ]
    },
    {
     "name": "stderr",
     "output_type": "stream",
     "text": [
      "C:\\Users\\Ivan\\Anaconda3\\lib\\site-packages\\sklearn\\ensemble\\forest.py:246: FutureWarning: The default value of n_estimators will change from 10 in version 0.20 to 100 in 0.22.\n",
      "  \"10 in version 0.20 to 100 in 0.22.\", FutureWarning)\n"
     ]
    },
    {
     "name": "stdout",
     "output_type": "stream",
     "text": [
      "fitting AdaBoostClassifier to dragon \n",
      "\n",
      "fitting GradientBoostingClassifier to dragon \n",
      "\n",
      "fitting GaussianNB to dragon \n",
      "\n",
      "fitting LinearDiscriminantAnalysis to dragon \n",
      "\n",
      "fitting LogisticRegression to dragon \n",
      "\n",
      "fitting KNeighborsClassifier to snake \n",
      "\n",
      "fitting DecisionTreeClassifier to snake \n",
      "\n"
     ]
    },
    {
     "name": "stderr",
     "output_type": "stream",
     "text": [
      "C:\\Users\\Ivan\\Anaconda3\\lib\\site-packages\\sklearn\\discriminant_analysis.py:388: UserWarning: Variables are collinear.\n",
      "  warnings.warn(\"Variables are collinear.\")\n",
      "C:\\Users\\Ivan\\Anaconda3\\lib\\site-packages\\sklearn\\linear_model\\logistic.py:433: FutureWarning: Default solver will be changed to 'lbfgs' in 0.22. Specify a solver to silence this warning.\n",
      "  FutureWarning)\n"
     ]
    },
    {
     "name": "stdout",
     "output_type": "stream",
     "text": [
      "fitting RandomForestClassifier to snake \n",
      "\n"
     ]
    },
    {
     "name": "stderr",
     "output_type": "stream",
     "text": [
      "C:\\Users\\Ivan\\Anaconda3\\lib\\site-packages\\sklearn\\ensemble\\forest.py:246: FutureWarning: The default value of n_estimators will change from 10 in version 0.20 to 100 in 0.22.\n",
      "  \"10 in version 0.20 to 100 in 0.22.\", FutureWarning)\n"
     ]
    },
    {
     "name": "stdout",
     "output_type": "stream",
     "text": [
      "fitting AdaBoostClassifier to snake \n",
      "\n",
      "fitting GradientBoostingClassifier to snake \n",
      "\n",
      "fitting GaussianNB to snake \n",
      "\n",
      "fitting LinearDiscriminantAnalysis to snake \n",
      "\n",
      "fitting LogisticRegression to snake \n",
      "\n",
      "fitting KNeighborsClassifier to horse \n",
      "\n",
      "fitting DecisionTreeClassifier to horse \n",
      "\n"
     ]
    },
    {
     "name": "stderr",
     "output_type": "stream",
     "text": [
      "C:\\Users\\Ivan\\Anaconda3\\lib\\site-packages\\sklearn\\discriminant_analysis.py:388: UserWarning: Variables are collinear.\n",
      "  warnings.warn(\"Variables are collinear.\")\n",
      "C:\\Users\\Ivan\\Anaconda3\\lib\\site-packages\\sklearn\\linear_model\\logistic.py:433: FutureWarning: Default solver will be changed to 'lbfgs' in 0.22. Specify a solver to silence this warning.\n",
      "  FutureWarning)\n"
     ]
    },
    {
     "name": "stdout",
     "output_type": "stream",
     "text": [
      "fitting RandomForestClassifier to horse \n",
      "\n"
     ]
    },
    {
     "name": "stderr",
     "output_type": "stream",
     "text": [
      "C:\\Users\\Ivan\\Anaconda3\\lib\\site-packages\\sklearn\\ensemble\\forest.py:246: FutureWarning: The default value of n_estimators will change from 10 in version 0.20 to 100 in 0.22.\n",
      "  \"10 in version 0.20 to 100 in 0.22.\", FutureWarning)\n"
     ]
    },
    {
     "name": "stdout",
     "output_type": "stream",
     "text": [
      "fitting AdaBoostClassifier to horse \n",
      "\n",
      "fitting GradientBoostingClassifier to horse \n",
      "\n",
      "fitting GaussianNB to horse \n",
      "\n",
      "fitting LinearDiscriminantAnalysis to horse \n",
      "\n",
      "fitting LogisticRegression to horse \n",
      "\n",
      "fitting KNeighborsClassifier to goat \n",
      "\n",
      "fitting DecisionTreeClassifier to goat \n",
      "\n"
     ]
    },
    {
     "name": "stderr",
     "output_type": "stream",
     "text": [
      "C:\\Users\\Ivan\\Anaconda3\\lib\\site-packages\\sklearn\\discriminant_analysis.py:388: UserWarning: Variables are collinear.\n",
      "  warnings.warn(\"Variables are collinear.\")\n",
      "C:\\Users\\Ivan\\Anaconda3\\lib\\site-packages\\sklearn\\linear_model\\logistic.py:433: FutureWarning: Default solver will be changed to 'lbfgs' in 0.22. Specify a solver to silence this warning.\n",
      "  FutureWarning)\n"
     ]
    },
    {
     "name": "stdout",
     "output_type": "stream",
     "text": [
      "fitting RandomForestClassifier to goat \n",
      "\n"
     ]
    },
    {
     "name": "stderr",
     "output_type": "stream",
     "text": [
      "C:\\Users\\Ivan\\Anaconda3\\lib\\site-packages\\sklearn\\ensemble\\forest.py:246: FutureWarning: The default value of n_estimators will change from 10 in version 0.20 to 100 in 0.22.\n",
      "  \"10 in version 0.20 to 100 in 0.22.\", FutureWarning)\n"
     ]
    },
    {
     "name": "stdout",
     "output_type": "stream",
     "text": [
      "fitting AdaBoostClassifier to goat \n",
      "\n",
      "fitting GradientBoostingClassifier to goat \n",
      "\n",
      "fitting GaussianNB to goat \n",
      "\n",
      "fitting LinearDiscriminantAnalysis to goat \n",
      "\n",
      "fitting LogisticRegression to goat \n",
      "\n",
      "fitting KNeighborsClassifier to monkey \n",
      "\n",
      "fitting DecisionTreeClassifier to monkey \n",
      "\n"
     ]
    },
    {
     "name": "stderr",
     "output_type": "stream",
     "text": [
      "C:\\Users\\Ivan\\Anaconda3\\lib\\site-packages\\sklearn\\discriminant_analysis.py:388: UserWarning: Variables are collinear.\n",
      "  warnings.warn(\"Variables are collinear.\")\n",
      "C:\\Users\\Ivan\\Anaconda3\\lib\\site-packages\\sklearn\\linear_model\\logistic.py:433: FutureWarning: Default solver will be changed to 'lbfgs' in 0.22. Specify a solver to silence this warning.\n",
      "  FutureWarning)\n"
     ]
    },
    {
     "name": "stdout",
     "output_type": "stream",
     "text": [
      "fitting RandomForestClassifier to monkey \n",
      "\n"
     ]
    },
    {
     "name": "stderr",
     "output_type": "stream",
     "text": [
      "C:\\Users\\Ivan\\Anaconda3\\lib\\site-packages\\sklearn\\ensemble\\forest.py:246: FutureWarning: The default value of n_estimators will change from 10 in version 0.20 to 100 in 0.22.\n",
      "  \"10 in version 0.20 to 100 in 0.22.\", FutureWarning)\n"
     ]
    },
    {
     "name": "stdout",
     "output_type": "stream",
     "text": [
      "fitting AdaBoostClassifier to monkey \n",
      "\n",
      "fitting GradientBoostingClassifier to monkey \n",
      "\n",
      "fitting GaussianNB to monkey \n",
      "\n",
      "fitting LinearDiscriminantAnalysis to monkey \n",
      "\n",
      "fitting LogisticRegression to monkey \n",
      "\n",
      "fitting KNeighborsClassifier to rooster \n",
      "\n",
      "fitting DecisionTreeClassifier to rooster \n",
      "\n"
     ]
    },
    {
     "name": "stderr",
     "output_type": "stream",
     "text": [
      "C:\\Users\\Ivan\\Anaconda3\\lib\\site-packages\\sklearn\\discriminant_analysis.py:388: UserWarning: Variables are collinear.\n",
      "  warnings.warn(\"Variables are collinear.\")\n",
      "C:\\Users\\Ivan\\Anaconda3\\lib\\site-packages\\sklearn\\linear_model\\logistic.py:433: FutureWarning: Default solver will be changed to 'lbfgs' in 0.22. Specify a solver to silence this warning.\n",
      "  FutureWarning)\n"
     ]
    },
    {
     "name": "stdout",
     "output_type": "stream",
     "text": [
      "fitting RandomForestClassifier to rooster \n",
      "\n"
     ]
    },
    {
     "name": "stderr",
     "output_type": "stream",
     "text": [
      "C:\\Users\\Ivan\\Anaconda3\\lib\\site-packages\\sklearn\\ensemble\\forest.py:246: FutureWarning: The default value of n_estimators will change from 10 in version 0.20 to 100 in 0.22.\n",
      "  \"10 in version 0.20 to 100 in 0.22.\", FutureWarning)\n"
     ]
    },
    {
     "name": "stdout",
     "output_type": "stream",
     "text": [
      "fitting AdaBoostClassifier to rooster \n",
      "\n",
      "fitting GradientBoostingClassifier to rooster \n",
      "\n",
      "fitting GaussianNB to rooster \n",
      "\n",
      "fitting LinearDiscriminantAnalysis to rooster \n",
      "\n",
      "fitting LogisticRegression to rooster \n",
      "\n",
      "fitting KNeighborsClassifier to dog \n",
      "\n",
      "fitting DecisionTreeClassifier to dog \n",
      "\n"
     ]
    },
    {
     "name": "stderr",
     "output_type": "stream",
     "text": [
      "C:\\Users\\Ivan\\Anaconda3\\lib\\site-packages\\sklearn\\discriminant_analysis.py:388: UserWarning: Variables are collinear.\n",
      "  warnings.warn(\"Variables are collinear.\")\n",
      "C:\\Users\\Ivan\\Anaconda3\\lib\\site-packages\\sklearn\\linear_model\\logistic.py:433: FutureWarning: Default solver will be changed to 'lbfgs' in 0.22. Specify a solver to silence this warning.\n",
      "  FutureWarning)\n"
     ]
    },
    {
     "name": "stdout",
     "output_type": "stream",
     "text": [
      "fitting RandomForestClassifier to dog \n",
      "\n"
     ]
    },
    {
     "name": "stderr",
     "output_type": "stream",
     "text": [
      "C:\\Users\\Ivan\\Anaconda3\\lib\\site-packages\\sklearn\\ensemble\\forest.py:246: FutureWarning: The default value of n_estimators will change from 10 in version 0.20 to 100 in 0.22.\n",
      "  \"10 in version 0.20 to 100 in 0.22.\", FutureWarning)\n"
     ]
    },
    {
     "name": "stdout",
     "output_type": "stream",
     "text": [
      "fitting AdaBoostClassifier to dog \n",
      "\n",
      "fitting GradientBoostingClassifier to dog \n",
      "\n",
      "fitting GaussianNB to dog \n",
      "\n",
      "fitting LinearDiscriminantAnalysis to dog \n",
      "\n",
      "fitting LogisticRegression to dog \n",
      "\n",
      "fitting KNeighborsClassifier to pig \n",
      "\n",
      "fitting DecisionTreeClassifier to pig \n",
      "\n"
     ]
    },
    {
     "name": "stderr",
     "output_type": "stream",
     "text": [
      "C:\\Users\\Ivan\\Anaconda3\\lib\\site-packages\\sklearn\\discriminant_analysis.py:388: UserWarning: Variables are collinear.\n",
      "  warnings.warn(\"Variables are collinear.\")\n",
      "C:\\Users\\Ivan\\Anaconda3\\lib\\site-packages\\sklearn\\linear_model\\logistic.py:433: FutureWarning: Default solver will be changed to 'lbfgs' in 0.22. Specify a solver to silence this warning.\n",
      "  FutureWarning)\n"
     ]
    },
    {
     "name": "stdout",
     "output_type": "stream",
     "text": [
      "fitting RandomForestClassifier to pig \n",
      "\n"
     ]
    },
    {
     "name": "stderr",
     "output_type": "stream",
     "text": [
      "C:\\Users\\Ivan\\Anaconda3\\lib\\site-packages\\sklearn\\ensemble\\forest.py:246: FutureWarning: The default value of n_estimators will change from 10 in version 0.20 to 100 in 0.22.\n",
      "  \"10 in version 0.20 to 100 in 0.22.\", FutureWarning)\n"
     ]
    },
    {
     "name": "stdout",
     "output_type": "stream",
     "text": [
      "fitting AdaBoostClassifier to pig \n",
      "\n",
      "fitting GradientBoostingClassifier to pig \n",
      "\n",
      "fitting GaussianNB to pig \n",
      "\n",
      "fitting LinearDiscriminantAnalysis to pig \n",
      "\n",
      "fitting LogisticRegression to pig \n",
      "\n"
     ]
    },
    {
     "name": "stderr",
     "output_type": "stream",
     "text": [
      "C:\\Users\\Ivan\\Anaconda3\\lib\\site-packages\\sklearn\\discriminant_analysis.py:388: UserWarning: Variables are collinear.\n",
      "  warnings.warn(\"Variables are collinear.\")\n",
      "C:\\Users\\Ivan\\Anaconda3\\lib\\site-packages\\sklearn\\linear_model\\logistic.py:433: FutureWarning: Default solver will be changed to 'lbfgs' in 0.22. Specify a solver to silence this warning.\n",
      "  FutureWarning)\n"
     ]
    }
   ],
   "source": [
    "refit_clfs = True\n",
    "\n",
    "def helper(clf, animal, X_train, Y_top3_train):\n",
    "    \n",
    "    print('fitting {} to {} \\n'.format(clf.__class__.__name__, animal))\n",
    "    return clf.fit(X_train, Y_top3_train[animal])\n",
    "\n",
    "\n",
    "# fit classifiers\n",
    "if refit_clfs==True:\n",
    "    clfs_fitted_df = pd.DataFrame([[helper(clf, animal, X_train, Y_top3_train) for clf in copy.deepcopy(classifiers)] \n",
    "                                    for animal in animal_list],\n",
    "                                  columns= clf_names,\n",
    "                                  index = animal_list)\n",
    "    pickle.dump(clfs_fitted_df, open(\"clfs_fitted_df\", 'wb') )\n",
    "\n",
    "# use cached copy\n",
    "else:\n",
    "    clfs_fitted_df= pickle.load(open(\"clfs_fitted_df\", 'rb'))\n"
   ]
  },
  {
   "cell_type": "code",
   "execution_count": 18,
   "metadata": {
    "_uuid": "c230fbc5891d6d71f4a05af0dd90fa09f965fd31"
   },
   "outputs": [],
   "source": [
    "def acc_top3(clf_fitted, X_test, y_test):\n",
    "    \n",
    "#get accurracy of predicting top3 finishes (how well does classifier predict a true \"top 3\" label?)\n",
    "#leaving out the majority of instances without a \"top3\" label\n",
    "#clf: FITTED classifier\n",
    "\n",
    "    y_test_intop3 = y_test[y_test==1]\n",
    "    X_test_intop3 = X_test[y_test==1]\n",
    "    \n",
    "    y_pred_intop3= clf_fitted.predict(X_test_intop3)\n",
    "    \n",
    "    return y_pred_intop3.mean()"
   ]
  },
  {
   "cell_type": "code",
   "execution_count": 19,
   "metadata": {
    "_uuid": "423eff0401b012f4095da566cd596f5835732e35"
   },
   "outputs": [],
   "source": [
    "def compare_clfs(animal):\n",
    "\n",
    "#given name of animal, generates dataframe comparing classifiers \n",
    "\n",
    "    return pd.DataFrame([(clf_fitted.__class__.__name__\n",
    "                          ,clf_fitted.score(X_test, Y_top3_test[animal]) #get score for each fitted classifier\n",
    "#                           ,acc_top3(clf_fitted, X_test, Y_top3_test[animal])\n",
    "                         ) for clf_fitted in clfs_fitted_df.loc[animal]]\n",
    "                           ,columns=['classifier', 'acc']).set_index('classifier')"
   ]
  },
  {
   "cell_type": "code",
   "execution_count": 20,
   "metadata": {
    "_uuid": "423eff0401b012f4095da566cd596f5835732e35",
    "scrolled": true
   },
   "outputs": [
    {
     "data": {
      "text/html": [
       "<div>\n",
       "<style scoped>\n",
       "    .dataframe tbody tr th:only-of-type {\n",
       "        vertical-align: middle;\n",
       "    }\n",
       "\n",
       "    .dataframe tbody tr th {\n",
       "        vertical-align: top;\n",
       "    }\n",
       "\n",
       "    .dataframe thead tr th {\n",
       "        text-align: left;\n",
       "    }\n",
       "\n",
       "    .dataframe thead tr:last-of-type th {\n",
       "        text-align: right;\n",
       "    }\n",
       "</style>\n",
       "<table border=\"1\" class=\"dataframe\">\n",
       "  <thead>\n",
       "    <tr>\n",
       "      <th></th>\n",
       "      <th>rat</th>\n",
       "      <th>ox</th>\n",
       "      <th>tiger</th>\n",
       "      <th>rabbit</th>\n",
       "      <th>dragon</th>\n",
       "      <th>snake</th>\n",
       "      <th>horse</th>\n",
       "      <th>goat</th>\n",
       "      <th>monkey</th>\n",
       "      <th>rooster</th>\n",
       "      <th>dog</th>\n",
       "      <th>pig</th>\n",
       "    </tr>\n",
       "    <tr>\n",
       "      <th></th>\n",
       "      <th>acc</th>\n",
       "      <th>acc</th>\n",
       "      <th>acc</th>\n",
       "      <th>acc</th>\n",
       "      <th>acc</th>\n",
       "      <th>acc</th>\n",
       "      <th>acc</th>\n",
       "      <th>acc</th>\n",
       "      <th>acc</th>\n",
       "      <th>acc</th>\n",
       "      <th>acc</th>\n",
       "      <th>acc</th>\n",
       "    </tr>\n",
       "    <tr>\n",
       "      <th>classifier</th>\n",
       "      <th></th>\n",
       "      <th></th>\n",
       "      <th></th>\n",
       "      <th></th>\n",
       "      <th></th>\n",
       "      <th></th>\n",
       "      <th></th>\n",
       "      <th></th>\n",
       "      <th></th>\n",
       "      <th></th>\n",
       "      <th></th>\n",
       "      <th></th>\n",
       "    </tr>\n",
       "  </thead>\n",
       "  <tbody>\n",
       "    <tr>\n",
       "      <th>KNeighborsClassifier</th>\n",
       "      <td>0.8972</td>\n",
       "      <td>0.9364</td>\n",
       "      <td>0.9082</td>\n",
       "      <td>0.9409</td>\n",
       "      <td>0.9247</td>\n",
       "      <td>0.8777</td>\n",
       "      <td>0.9061</td>\n",
       "      <td>0.9166</td>\n",
       "      <td>0.9053</td>\n",
       "      <td>0.9475</td>\n",
       "      <td>0.9036</td>\n",
       "      <td>0.9273</td>\n",
       "    </tr>\n",
       "    <tr>\n",
       "      <th>DecisionTreeClassifier</th>\n",
       "      <td>0.9223</td>\n",
       "      <td>0.9832</td>\n",
       "      <td>0.9186</td>\n",
       "      <td>0.9785</td>\n",
       "      <td>0.9237</td>\n",
       "      <td>0.9081</td>\n",
       "      <td>0.9198</td>\n",
       "      <td>0.9256</td>\n",
       "      <td>0.9184</td>\n",
       "      <td>0.9579</td>\n",
       "      <td>0.9282</td>\n",
       "      <td>0.9591</td>\n",
       "    </tr>\n",
       "    <tr>\n",
       "      <th>RandomForestClassifier</th>\n",
       "      <td>0.9456</td>\n",
       "      <td>0.9868</td>\n",
       "      <td>0.9421</td>\n",
       "      <td>0.9854</td>\n",
       "      <td>0.9484</td>\n",
       "      <td>0.9266</td>\n",
       "      <td>0.9465</td>\n",
       "      <td>0.9460</td>\n",
       "      <td>0.9438</td>\n",
       "      <td>0.9688</td>\n",
       "      <td>0.9483</td>\n",
       "      <td>0.9711</td>\n",
       "    </tr>\n",
       "    <tr>\n",
       "      <th>AdaBoostClassifier</th>\n",
       "      <td>0.9242</td>\n",
       "      <td>0.9783</td>\n",
       "      <td>0.9356</td>\n",
       "      <td>0.9786</td>\n",
       "      <td>0.9273</td>\n",
       "      <td>0.8959</td>\n",
       "      <td>0.9112</td>\n",
       "      <td>0.9298</td>\n",
       "      <td>0.8920</td>\n",
       "      <td>0.9634</td>\n",
       "      <td>0.9238</td>\n",
       "      <td>0.9546</td>\n",
       "    </tr>\n",
       "    <tr>\n",
       "      <th>GradientBoostingClassifier</th>\n",
       "      <td>0.9450</td>\n",
       "      <td>0.9851</td>\n",
       "      <td>0.9423</td>\n",
       "      <td>0.9852</td>\n",
       "      <td>0.9550</td>\n",
       "      <td>0.9241</td>\n",
       "      <td>0.9459</td>\n",
       "      <td>0.9493</td>\n",
       "      <td>0.9340</td>\n",
       "      <td>0.9695</td>\n",
       "      <td>0.9453</td>\n",
       "      <td>0.9667</td>\n",
       "    </tr>\n",
       "    <tr>\n",
       "      <th>GaussianNB</th>\n",
       "      <td>0.8443</td>\n",
       "      <td>0.9502</td>\n",
       "      <td>0.8654</td>\n",
       "      <td>0.9471</td>\n",
       "      <td>0.8960</td>\n",
       "      <td>0.8157</td>\n",
       "      <td>0.8630</td>\n",
       "      <td>0.8792</td>\n",
       "      <td>0.8481</td>\n",
       "      <td>0.9496</td>\n",
       "      <td>0.8519</td>\n",
       "      <td>0.8820</td>\n",
       "    </tr>\n",
       "    <tr>\n",
       "      <th>LinearDiscriminantAnalysis</th>\n",
       "      <td>0.7804</td>\n",
       "      <td>0.9445</td>\n",
       "      <td>0.8348</td>\n",
       "      <td>0.9379</td>\n",
       "      <td>0.9125</td>\n",
       "      <td>0.7187</td>\n",
       "      <td>0.8676</td>\n",
       "      <td>0.9000</td>\n",
       "      <td>0.8527</td>\n",
       "      <td>0.9441</td>\n",
       "      <td>0.7933</td>\n",
       "      <td>0.8690</td>\n",
       "    </tr>\n",
       "    <tr>\n",
       "      <th>LogisticRegression</th>\n",
       "      <td>0.7794</td>\n",
       "      <td>0.9467</td>\n",
       "      <td>0.8354</td>\n",
       "      <td>0.9408</td>\n",
       "      <td>0.9123</td>\n",
       "      <td>0.7190</td>\n",
       "      <td>0.8683</td>\n",
       "      <td>0.9002</td>\n",
       "      <td>0.8533</td>\n",
       "      <td>0.9504</td>\n",
       "      <td>0.7932</td>\n",
       "      <td>0.8683</td>\n",
       "    </tr>\n",
       "  </tbody>\n",
       "</table>\n",
       "</div>"
      ],
      "text/plain": [
       "                               rat      ox   tiger  rabbit  dragon   snake  \\\n",
       "                               acc     acc     acc     acc     acc     acc   \n",
       "classifier                                                                   \n",
       "KNeighborsClassifier        0.8972  0.9364  0.9082  0.9409  0.9247  0.8777   \n",
       "DecisionTreeClassifier      0.9223  0.9832  0.9186  0.9785  0.9237  0.9081   \n",
       "RandomForestClassifier      0.9456  0.9868  0.9421  0.9854  0.9484  0.9266   \n",
       "AdaBoostClassifier          0.9242  0.9783  0.9356  0.9786  0.9273  0.8959   \n",
       "GradientBoostingClassifier  0.9450  0.9851  0.9423  0.9852  0.9550  0.9241   \n",
       "GaussianNB                  0.8443  0.9502  0.8654  0.9471  0.8960  0.8157   \n",
       "LinearDiscriminantAnalysis  0.7804  0.9445  0.8348  0.9379  0.9125  0.7187   \n",
       "LogisticRegression          0.7794  0.9467  0.8354  0.9408  0.9123  0.7190   \n",
       "\n",
       "                             horse    goat  monkey rooster     dog     pig  \n",
       "                               acc     acc     acc     acc     acc     acc  \n",
       "classifier                                                                  \n",
       "KNeighborsClassifier        0.9061  0.9166  0.9053  0.9475  0.9036  0.9273  \n",
       "DecisionTreeClassifier      0.9198  0.9256  0.9184  0.9579  0.9282  0.9591  \n",
       "RandomForestClassifier      0.9465  0.9460  0.9438  0.9688  0.9483  0.9711  \n",
       "AdaBoostClassifier          0.9112  0.9298  0.8920  0.9634  0.9238  0.9546  \n",
       "GradientBoostingClassifier  0.9459  0.9493  0.9340  0.9695  0.9453  0.9667  \n",
       "GaussianNB                  0.8630  0.8792  0.8481  0.9496  0.8519  0.8820  \n",
       "LinearDiscriminantAnalysis  0.8676  0.9000  0.8527  0.9441  0.7933  0.8690  \n",
       "LogisticRegression          0.8683  0.9002  0.8533  0.9504  0.7932  0.8683  "
      ]
     },
     "execution_count": 20,
     "metadata": {},
     "output_type": "execute_result"
    }
   ],
   "source": [
    "clf_all_animals = pd.concat([compare_clfs(animal) for animal in animal_list], axis=1, keys=animal_list)\n",
    "# clf_all_animals.reindex((df.columns), axis=1)\n",
    "clf_all_animals"
   ]
  },
  {
   "cell_type": "markdown",
   "metadata": {},
   "source": [
    "### Compare classifiers"
   ]
  },
  {
   "cell_type": "code",
   "execution_count": 21,
   "metadata": {
    "scrolled": true
   },
   "outputs": [
    {
     "name": "stdout",
     "output_type": "stream",
     "text": [
      "NOTE: Enter 'c' at the ipdb>  prompt to continue execution.\n",
      "> \u001b[1;32m<string>\u001b[0m(5)\u001b[0;36m<module>\u001b[1;34m()\u001b[0m\n",
      "\n",
      "ipdb> c\n",
      "best clf: RandomForestClassifier\n"
     ]
    }
   ],
   "source": [
    "# %%debug\n",
    "\n",
    "# clf_all_animals=clf_all_animals.swaplevel(axis=1)\n",
    "# clf_all_animals.reindex(sorted(clf_all_animals.columns), axis=1)\n",
    "best_clfs = clf_all_animals.idxmax()\n",
    "\n",
    "name_clf_dict = {clf.__class__.__name__:clf for clf in classifiers}\n",
    "best_clfs.value_counts()\n",
    "\n",
    "best_clf = name_clf_dict[best_clfs.mode().loc[0]]\n",
    "print('best clf: {}'.format(best_clf.__class__.__name__))"
   ]
  },
  {
   "cell_type": "markdown",
   "metadata": {},
   "source": [
    "## Fit Regressors"
   ]
  },
  {
   "cell_type": "code",
   "execution_count": 22,
   "metadata": {},
   "outputs": [],
   "source": [
    "from sklearn.ensemble import GradientBoostingRegressor, RandomForestRegressor, AdaBoostRegressor\n",
    "from sklearn.linear_model import LogisticRegression"
   ]
  },
  {
   "cell_type": "code",
   "execution_count": 23,
   "metadata": {},
   "outputs": [],
   "source": [
    "regressors = [\n",
    "#               GradientBoostingRegressor(),\n",
    "              GradientBoostingRegressor(n_estimators=1000, max_depth=5),\n",
    "              RandomForestRegressor(), \n",
    "              AdaBoostRegressor(),\n",
    "              LogisticRegression()\n",
    "             ]\n",
    "\n",
    "rgg_names = [rgg.__class__.__name__ for rgg in regressors]"
   ]
  },
  {
   "cell_type": "code",
   "execution_count": 127,
   "metadata": {},
   "outputs": [
    {
     "name": "stdout",
     "output_type": "stream",
     "text": [
      "fitting GradientBoostingRegressor to rat \n",
      "\n",
      "fitting RandomForestRegressor to rat \n",
      "\n"
     ]
    },
    {
     "name": "stderr",
     "output_type": "stream",
     "text": [
      "C:\\Users\\Ivan\\Anaconda3\\lib\\site-packages\\sklearn\\ensemble\\forest.py:246: FutureWarning: The default value of n_estimators will change from 10 in version 0.20 to 100 in 0.22.\n",
      "  \"10 in version 0.20 to 100 in 0.22.\", FutureWarning)\n"
     ]
    },
    {
     "name": "stdout",
     "output_type": "stream",
     "text": [
      "fitting AdaBoostRegressor to rat \n",
      "\n",
      "fitting LogisticRegression to rat \n",
      "\n"
     ]
    },
    {
     "name": "stderr",
     "output_type": "stream",
     "text": [
      "C:\\Users\\Ivan\\Anaconda3\\lib\\site-packages\\sklearn\\linear_model\\logistic.py:433: FutureWarning: Default solver will be changed to 'lbfgs' in 0.22. Specify a solver to silence this warning.\n",
      "  FutureWarning)\n",
      "C:\\Users\\Ivan\\Anaconda3\\lib\\site-packages\\sklearn\\linear_model\\logistic.py:460: FutureWarning: Default multi_class will be changed to 'auto' in 0.22. Specify the multi_class option to silence this warning.\n",
      "  \"this warning.\", FutureWarning)\n"
     ]
    },
    {
     "name": "stdout",
     "output_type": "stream",
     "text": [
      "fitting GradientBoostingRegressor to ox \n",
      "\n",
      "fitting RandomForestRegressor to ox \n",
      "\n"
     ]
    },
    {
     "name": "stderr",
     "output_type": "stream",
     "text": [
      "C:\\Users\\Ivan\\Anaconda3\\lib\\site-packages\\sklearn\\ensemble\\forest.py:246: FutureWarning: The default value of n_estimators will change from 10 in version 0.20 to 100 in 0.22.\n",
      "  \"10 in version 0.20 to 100 in 0.22.\", FutureWarning)\n"
     ]
    },
    {
     "name": "stdout",
     "output_type": "stream",
     "text": [
      "fitting AdaBoostRegressor to ox \n",
      "\n",
      "fitting LogisticRegression to ox \n",
      "\n"
     ]
    },
    {
     "name": "stderr",
     "output_type": "stream",
     "text": [
      "C:\\Users\\Ivan\\Anaconda3\\lib\\site-packages\\sklearn\\linear_model\\logistic.py:433: FutureWarning: Default solver will be changed to 'lbfgs' in 0.22. Specify a solver to silence this warning.\n",
      "  FutureWarning)\n",
      "C:\\Users\\Ivan\\Anaconda3\\lib\\site-packages\\sklearn\\linear_model\\logistic.py:460: FutureWarning: Default multi_class will be changed to 'auto' in 0.22. Specify the multi_class option to silence this warning.\n",
      "  \"this warning.\", FutureWarning)\n"
     ]
    },
    {
     "name": "stdout",
     "output_type": "stream",
     "text": [
      "fitting GradientBoostingRegressor to tiger \n",
      "\n",
      "fitting RandomForestRegressor to tiger \n",
      "\n"
     ]
    },
    {
     "name": "stderr",
     "output_type": "stream",
     "text": [
      "C:\\Users\\Ivan\\Anaconda3\\lib\\site-packages\\sklearn\\ensemble\\forest.py:246: FutureWarning: The default value of n_estimators will change from 10 in version 0.20 to 100 in 0.22.\n",
      "  \"10 in version 0.20 to 100 in 0.22.\", FutureWarning)\n"
     ]
    },
    {
     "name": "stdout",
     "output_type": "stream",
     "text": [
      "fitting AdaBoostRegressor to tiger \n",
      "\n",
      "fitting LogisticRegression to tiger \n",
      "\n"
     ]
    },
    {
     "name": "stderr",
     "output_type": "stream",
     "text": [
      "C:\\Users\\Ivan\\Anaconda3\\lib\\site-packages\\sklearn\\linear_model\\logistic.py:433: FutureWarning: Default solver will be changed to 'lbfgs' in 0.22. Specify a solver to silence this warning.\n",
      "  FutureWarning)\n",
      "C:\\Users\\Ivan\\Anaconda3\\lib\\site-packages\\sklearn\\linear_model\\logistic.py:460: FutureWarning: Default multi_class will be changed to 'auto' in 0.22. Specify the multi_class option to silence this warning.\n",
      "  \"this warning.\", FutureWarning)\n"
     ]
    },
    {
     "name": "stdout",
     "output_type": "stream",
     "text": [
      "fitting GradientBoostingRegressor to rabbit \n",
      "\n",
      "fitting RandomForestRegressor to rabbit \n",
      "\n"
     ]
    },
    {
     "name": "stderr",
     "output_type": "stream",
     "text": [
      "C:\\Users\\Ivan\\Anaconda3\\lib\\site-packages\\sklearn\\ensemble\\forest.py:246: FutureWarning: The default value of n_estimators will change from 10 in version 0.20 to 100 in 0.22.\n",
      "  \"10 in version 0.20 to 100 in 0.22.\", FutureWarning)\n"
     ]
    },
    {
     "name": "stdout",
     "output_type": "stream",
     "text": [
      "fitting AdaBoostRegressor to rabbit \n",
      "\n",
      "fitting LogisticRegression to rabbit \n",
      "\n"
     ]
    },
    {
     "name": "stderr",
     "output_type": "stream",
     "text": [
      "C:\\Users\\Ivan\\Anaconda3\\lib\\site-packages\\sklearn\\linear_model\\logistic.py:433: FutureWarning: Default solver will be changed to 'lbfgs' in 0.22. Specify a solver to silence this warning.\n",
      "  FutureWarning)\n",
      "C:\\Users\\Ivan\\Anaconda3\\lib\\site-packages\\sklearn\\linear_model\\logistic.py:460: FutureWarning: Default multi_class will be changed to 'auto' in 0.22. Specify the multi_class option to silence this warning.\n",
      "  \"this warning.\", FutureWarning)\n"
     ]
    },
    {
     "name": "stdout",
     "output_type": "stream",
     "text": [
      "fitting GradientBoostingRegressor to dragon \n",
      "\n",
      "fitting RandomForestRegressor to dragon \n",
      "\n"
     ]
    },
    {
     "name": "stderr",
     "output_type": "stream",
     "text": [
      "C:\\Users\\Ivan\\Anaconda3\\lib\\site-packages\\sklearn\\ensemble\\forest.py:246: FutureWarning: The default value of n_estimators will change from 10 in version 0.20 to 100 in 0.22.\n",
      "  \"10 in version 0.20 to 100 in 0.22.\", FutureWarning)\n"
     ]
    },
    {
     "name": "stdout",
     "output_type": "stream",
     "text": [
      "fitting AdaBoostRegressor to dragon \n",
      "\n",
      "fitting LogisticRegression to dragon \n",
      "\n"
     ]
    },
    {
     "name": "stderr",
     "output_type": "stream",
     "text": [
      "C:\\Users\\Ivan\\Anaconda3\\lib\\site-packages\\sklearn\\linear_model\\logistic.py:433: FutureWarning: Default solver will be changed to 'lbfgs' in 0.22. Specify a solver to silence this warning.\n",
      "  FutureWarning)\n",
      "C:\\Users\\Ivan\\Anaconda3\\lib\\site-packages\\sklearn\\linear_model\\logistic.py:460: FutureWarning: Default multi_class will be changed to 'auto' in 0.22. Specify the multi_class option to silence this warning.\n",
      "  \"this warning.\", FutureWarning)\n"
     ]
    },
    {
     "name": "stdout",
     "output_type": "stream",
     "text": [
      "fitting GradientBoostingRegressor to snake \n",
      "\n",
      "fitting RandomForestRegressor to snake \n",
      "\n"
     ]
    },
    {
     "name": "stderr",
     "output_type": "stream",
     "text": [
      "C:\\Users\\Ivan\\Anaconda3\\lib\\site-packages\\sklearn\\ensemble\\forest.py:246: FutureWarning: The default value of n_estimators will change from 10 in version 0.20 to 100 in 0.22.\n",
      "  \"10 in version 0.20 to 100 in 0.22.\", FutureWarning)\n"
     ]
    },
    {
     "name": "stdout",
     "output_type": "stream",
     "text": [
      "fitting AdaBoostRegressor to snake \n",
      "\n",
      "fitting LogisticRegression to snake \n",
      "\n"
     ]
    },
    {
     "name": "stderr",
     "output_type": "stream",
     "text": [
      "C:\\Users\\Ivan\\Anaconda3\\lib\\site-packages\\sklearn\\linear_model\\logistic.py:433: FutureWarning: Default solver will be changed to 'lbfgs' in 0.22. Specify a solver to silence this warning.\n",
      "  FutureWarning)\n",
      "C:\\Users\\Ivan\\Anaconda3\\lib\\site-packages\\sklearn\\linear_model\\logistic.py:460: FutureWarning: Default multi_class will be changed to 'auto' in 0.22. Specify the multi_class option to silence this warning.\n",
      "  \"this warning.\", FutureWarning)\n"
     ]
    },
    {
     "name": "stdout",
     "output_type": "stream",
     "text": [
      "fitting GradientBoostingRegressor to horse \n",
      "\n",
      "fitting RandomForestRegressor to horse \n",
      "\n"
     ]
    },
    {
     "name": "stderr",
     "output_type": "stream",
     "text": [
      "C:\\Users\\Ivan\\Anaconda3\\lib\\site-packages\\sklearn\\ensemble\\forest.py:246: FutureWarning: The default value of n_estimators will change from 10 in version 0.20 to 100 in 0.22.\n",
      "  \"10 in version 0.20 to 100 in 0.22.\", FutureWarning)\n"
     ]
    },
    {
     "name": "stdout",
     "output_type": "stream",
     "text": [
      "fitting AdaBoostRegressor to horse \n",
      "\n",
      "fitting LogisticRegression to horse \n",
      "\n"
     ]
    },
    {
     "name": "stderr",
     "output_type": "stream",
     "text": [
      "C:\\Users\\Ivan\\Anaconda3\\lib\\site-packages\\sklearn\\linear_model\\logistic.py:433: FutureWarning: Default solver will be changed to 'lbfgs' in 0.22. Specify a solver to silence this warning.\n",
      "  FutureWarning)\n",
      "C:\\Users\\Ivan\\Anaconda3\\lib\\site-packages\\sklearn\\linear_model\\logistic.py:460: FutureWarning: Default multi_class will be changed to 'auto' in 0.22. Specify the multi_class option to silence this warning.\n",
      "  \"this warning.\", FutureWarning)\n"
     ]
    },
    {
     "name": "stdout",
     "output_type": "stream",
     "text": [
      "fitting GradientBoostingRegressor to goat \n",
      "\n",
      "fitting RandomForestRegressor to goat \n",
      "\n"
     ]
    },
    {
     "name": "stderr",
     "output_type": "stream",
     "text": [
      "C:\\Users\\Ivan\\Anaconda3\\lib\\site-packages\\sklearn\\ensemble\\forest.py:246: FutureWarning: The default value of n_estimators will change from 10 in version 0.20 to 100 in 0.22.\n",
      "  \"10 in version 0.20 to 100 in 0.22.\", FutureWarning)\n"
     ]
    },
    {
     "name": "stdout",
     "output_type": "stream",
     "text": [
      "fitting AdaBoostRegressor to goat \n",
      "\n",
      "fitting LogisticRegression to goat \n",
      "\n"
     ]
    },
    {
     "name": "stderr",
     "output_type": "stream",
     "text": [
      "C:\\Users\\Ivan\\Anaconda3\\lib\\site-packages\\sklearn\\linear_model\\logistic.py:433: FutureWarning: Default solver will be changed to 'lbfgs' in 0.22. Specify a solver to silence this warning.\n",
      "  FutureWarning)\n",
      "C:\\Users\\Ivan\\Anaconda3\\lib\\site-packages\\sklearn\\linear_model\\logistic.py:460: FutureWarning: Default multi_class will be changed to 'auto' in 0.22. Specify the multi_class option to silence this warning.\n",
      "  \"this warning.\", FutureWarning)\n"
     ]
    },
    {
     "name": "stdout",
     "output_type": "stream",
     "text": [
      "fitting GradientBoostingRegressor to monkey \n",
      "\n",
      "fitting RandomForestRegressor to monkey \n",
      "\n"
     ]
    },
    {
     "name": "stderr",
     "output_type": "stream",
     "text": [
      "C:\\Users\\Ivan\\Anaconda3\\lib\\site-packages\\sklearn\\ensemble\\forest.py:246: FutureWarning: The default value of n_estimators will change from 10 in version 0.20 to 100 in 0.22.\n",
      "  \"10 in version 0.20 to 100 in 0.22.\", FutureWarning)\n"
     ]
    },
    {
     "name": "stdout",
     "output_type": "stream",
     "text": [
      "fitting AdaBoostRegressor to monkey \n",
      "\n",
      "fitting LogisticRegression to monkey \n",
      "\n"
     ]
    },
    {
     "name": "stderr",
     "output_type": "stream",
     "text": [
      "C:\\Users\\Ivan\\Anaconda3\\lib\\site-packages\\sklearn\\linear_model\\logistic.py:433: FutureWarning: Default solver will be changed to 'lbfgs' in 0.22. Specify a solver to silence this warning.\n",
      "  FutureWarning)\n",
      "C:\\Users\\Ivan\\Anaconda3\\lib\\site-packages\\sklearn\\linear_model\\logistic.py:460: FutureWarning: Default multi_class will be changed to 'auto' in 0.22. Specify the multi_class option to silence this warning.\n",
      "  \"this warning.\", FutureWarning)\n"
     ]
    },
    {
     "name": "stdout",
     "output_type": "stream",
     "text": [
      "fitting GradientBoostingRegressor to rooster \n",
      "\n",
      "fitting RandomForestRegressor to rooster \n",
      "\n",
      "fitting AdaBoostRegressor to rooster \n",
      "\n"
     ]
    },
    {
     "name": "stderr",
     "output_type": "stream",
     "text": [
      "C:\\Users\\Ivan\\Anaconda3\\lib\\site-packages\\sklearn\\ensemble\\forest.py:246: FutureWarning: The default value of n_estimators will change from 10 in version 0.20 to 100 in 0.22.\n",
      "  \"10 in version 0.20 to 100 in 0.22.\", FutureWarning)\n"
     ]
    },
    {
     "name": "stdout",
     "output_type": "stream",
     "text": [
      "fitting LogisticRegression to rooster \n",
      "\n"
     ]
    },
    {
     "name": "stderr",
     "output_type": "stream",
     "text": [
      "C:\\Users\\Ivan\\Anaconda3\\lib\\site-packages\\sklearn\\linear_model\\logistic.py:433: FutureWarning: Default solver will be changed to 'lbfgs' in 0.22. Specify a solver to silence this warning.\n",
      "  FutureWarning)\n",
      "C:\\Users\\Ivan\\Anaconda3\\lib\\site-packages\\sklearn\\linear_model\\logistic.py:460: FutureWarning: Default multi_class will be changed to 'auto' in 0.22. Specify the multi_class option to silence this warning.\n",
      "  \"this warning.\", FutureWarning)\n"
     ]
    },
    {
     "name": "stdout",
     "output_type": "stream",
     "text": [
      "fitting GradientBoostingRegressor to dog \n",
      "\n",
      "fitting RandomForestRegressor to dog \n",
      "\n"
     ]
    },
    {
     "name": "stderr",
     "output_type": "stream",
     "text": [
      "C:\\Users\\Ivan\\Anaconda3\\lib\\site-packages\\sklearn\\ensemble\\forest.py:246: FutureWarning: The default value of n_estimators will change from 10 in version 0.20 to 100 in 0.22.\n",
      "  \"10 in version 0.20 to 100 in 0.22.\", FutureWarning)\n"
     ]
    },
    {
     "name": "stdout",
     "output_type": "stream",
     "text": [
      "fitting AdaBoostRegressor to dog \n",
      "\n",
      "fitting LogisticRegression to dog \n",
      "\n"
     ]
    },
    {
     "name": "stderr",
     "output_type": "stream",
     "text": [
      "C:\\Users\\Ivan\\Anaconda3\\lib\\site-packages\\sklearn\\linear_model\\logistic.py:433: FutureWarning: Default solver will be changed to 'lbfgs' in 0.22. Specify a solver to silence this warning.\n",
      "  FutureWarning)\n",
      "C:\\Users\\Ivan\\Anaconda3\\lib\\site-packages\\sklearn\\linear_model\\logistic.py:460: FutureWarning: Default multi_class will be changed to 'auto' in 0.22. Specify the multi_class option to silence this warning.\n",
      "  \"this warning.\", FutureWarning)\n"
     ]
    },
    {
     "name": "stdout",
     "output_type": "stream",
     "text": [
      "fitting GradientBoostingRegressor to pig \n",
      "\n",
      "fitting RandomForestRegressor to pig \n",
      "\n"
     ]
    },
    {
     "name": "stderr",
     "output_type": "stream",
     "text": [
      "C:\\Users\\Ivan\\Anaconda3\\lib\\site-packages\\sklearn\\ensemble\\forest.py:246: FutureWarning: The default value of n_estimators will change from 10 in version 0.20 to 100 in 0.22.\n",
      "  \"10 in version 0.20 to 100 in 0.22.\", FutureWarning)\n"
     ]
    },
    {
     "name": "stdout",
     "output_type": "stream",
     "text": [
      "fitting AdaBoostRegressor to pig \n",
      "\n",
      "fitting LogisticRegression to pig \n",
      "\n"
     ]
    },
    {
     "name": "stderr",
     "output_type": "stream",
     "text": [
      "C:\\Users\\Ivan\\Anaconda3\\lib\\site-packages\\sklearn\\linear_model\\logistic.py:433: FutureWarning: Default solver will be changed to 'lbfgs' in 0.22. Specify a solver to silence this warning.\n",
      "  FutureWarning)\n",
      "C:\\Users\\Ivan\\Anaconda3\\lib\\site-packages\\sklearn\\linear_model\\logistic.py:460: FutureWarning: Default multi_class will be changed to 'auto' in 0.22. Specify the multi_class option to silence this warning.\n",
      "  \"this warning.\", FutureWarning)\n"
     ]
    }
   ],
   "source": [
    "refit_rggs = True\n",
    "\n",
    "def helper_rgg(rgg, animal, X_train, Y_time_train):\n",
    "\n",
    "#returns a fitted regressor given\n",
    "#rgg: regressor class\n",
    "#animal: animal\n",
    "#X_train\n",
    "#Y_time_train\n",
    "\n",
    "    #only fit in rows where that particular animal's time is defined\n",
    "    X_selected = X_train[~Y_time_train[animal].isnull()]\n",
    "    y_selected = Y_time_train[animal][~Y_time_train[animal].isnull()]\n",
    "\n",
    "    print('fitting {} to {} \\n'.format(rgg.__class__.__name__, animal))\n",
    "    return rgg.fit(X_selected, y_selected)\n",
    "\n",
    "if refit_rggs==True:\n",
    "    rggs_fitted_df = pd.DataFrame([[helper_rgg(rgg, animal, X_train, Y_time_train[Y_time_train>0]) for rgg in copy.deepcopy(regressors)] \n",
    "                                    for animal in animal_list]\n",
    "                                   ,columns= rgg_names\n",
    "                                   ,index = animal_list)\n",
    "    pickle.dump(rggs_fitted_df, open(\"rggs_fitted_df\", 'wb') )\n",
    "\n",
    "else:\n",
    "    rggs_fitted_df= pickle.load(open(\"rggs_fitted_df\", 'rb'))\n"
   ]
  },
  {
   "cell_type": "code",
   "execution_count": 128,
   "metadata": {
    "scrolled": true
   },
   "outputs": [
    {
     "data": {
      "text/html": [
       "<div>\n",
       "<style scoped>\n",
       "    .dataframe tbody tr th:only-of-type {\n",
       "        vertical-align: middle;\n",
       "    }\n",
       "\n",
       "    .dataframe tbody tr th {\n",
       "        vertical-align: top;\n",
       "    }\n",
       "\n",
       "    .dataframe thead th {\n",
       "        text-align: right;\n",
       "    }\n",
       "</style>\n",
       "<table border=\"1\" class=\"dataframe\">\n",
       "  <thead>\n",
       "    <tr style=\"text-align: right;\">\n",
       "      <th></th>\n",
       "      <th>GradientBoostingRegressor</th>\n",
       "      <th>RandomForestRegressor</th>\n",
       "      <th>AdaBoostRegressor</th>\n",
       "      <th>LogisticRegression</th>\n",
       "    </tr>\n",
       "  </thead>\n",
       "  <tbody>\n",
       "    <tr>\n",
       "      <th>rat</th>\n",
       "      <td>([DecisionTreeRegressor(criterion='friedman_ms...</td>\n",
       "      <td>(DecisionTreeRegressor(criterion='mse', max_de...</td>\n",
       "      <td>(DecisionTreeRegressor(criterion='mse', max_de...</td>\n",
       "      <td>LogisticRegression(C=1.0, class_weight=None, d...</td>\n",
       "    </tr>\n",
       "    <tr>\n",
       "      <th>ox</th>\n",
       "      <td>([DecisionTreeRegressor(criterion='friedman_ms...</td>\n",
       "      <td>(DecisionTreeRegressor(criterion='mse', max_de...</td>\n",
       "      <td>(DecisionTreeRegressor(criterion='mse', max_de...</td>\n",
       "      <td>LogisticRegression(C=1.0, class_weight=None, d...</td>\n",
       "    </tr>\n",
       "    <tr>\n",
       "      <th>tiger</th>\n",
       "      <td>([DecisionTreeRegressor(criterion='friedman_ms...</td>\n",
       "      <td>(DecisionTreeRegressor(criterion='mse', max_de...</td>\n",
       "      <td>(DecisionTreeRegressor(criterion='mse', max_de...</td>\n",
       "      <td>LogisticRegression(C=1.0, class_weight=None, d...</td>\n",
       "    </tr>\n",
       "    <tr>\n",
       "      <th>rabbit</th>\n",
       "      <td>([DecisionTreeRegressor(criterion='friedman_ms...</td>\n",
       "      <td>(DecisionTreeRegressor(criterion='mse', max_de...</td>\n",
       "      <td>(DecisionTreeRegressor(criterion='mse', max_de...</td>\n",
       "      <td>LogisticRegression(C=1.0, class_weight=None, d...</td>\n",
       "    </tr>\n",
       "    <tr>\n",
       "      <th>dragon</th>\n",
       "      <td>([DecisionTreeRegressor(criterion='friedman_ms...</td>\n",
       "      <td>(DecisionTreeRegressor(criterion='mse', max_de...</td>\n",
       "      <td>(DecisionTreeRegressor(criterion='mse', max_de...</td>\n",
       "      <td>LogisticRegression(C=1.0, class_weight=None, d...</td>\n",
       "    </tr>\n",
       "    <tr>\n",
       "      <th>snake</th>\n",
       "      <td>([DecisionTreeRegressor(criterion='friedman_ms...</td>\n",
       "      <td>(DecisionTreeRegressor(criterion='mse', max_de...</td>\n",
       "      <td>(DecisionTreeRegressor(criterion='mse', max_de...</td>\n",
       "      <td>LogisticRegression(C=1.0, class_weight=None, d...</td>\n",
       "    </tr>\n",
       "    <tr>\n",
       "      <th>horse</th>\n",
       "      <td>([DecisionTreeRegressor(criterion='friedman_ms...</td>\n",
       "      <td>(DecisionTreeRegressor(criterion='mse', max_de...</td>\n",
       "      <td>(DecisionTreeRegressor(criterion='mse', max_de...</td>\n",
       "      <td>LogisticRegression(C=1.0, class_weight=None, d...</td>\n",
       "    </tr>\n",
       "    <tr>\n",
       "      <th>goat</th>\n",
       "      <td>([DecisionTreeRegressor(criterion='friedman_ms...</td>\n",
       "      <td>(DecisionTreeRegressor(criterion='mse', max_de...</td>\n",
       "      <td>(DecisionTreeRegressor(criterion='mse', max_de...</td>\n",
       "      <td>LogisticRegression(C=1.0, class_weight=None, d...</td>\n",
       "    </tr>\n",
       "    <tr>\n",
       "      <th>monkey</th>\n",
       "      <td>([DecisionTreeRegressor(criterion='friedman_ms...</td>\n",
       "      <td>(DecisionTreeRegressor(criterion='mse', max_de...</td>\n",
       "      <td>(DecisionTreeRegressor(criterion='mse', max_de...</td>\n",
       "      <td>LogisticRegression(C=1.0, class_weight=None, d...</td>\n",
       "    </tr>\n",
       "    <tr>\n",
       "      <th>rooster</th>\n",
       "      <td>([DecisionTreeRegressor(criterion='friedman_ms...</td>\n",
       "      <td>(DecisionTreeRegressor(criterion='mse', max_de...</td>\n",
       "      <td>(DecisionTreeRegressor(criterion='mse', max_de...</td>\n",
       "      <td>LogisticRegression(C=1.0, class_weight=None, d...</td>\n",
       "    </tr>\n",
       "    <tr>\n",
       "      <th>dog</th>\n",
       "      <td>([DecisionTreeRegressor(criterion='friedman_ms...</td>\n",
       "      <td>(DecisionTreeRegressor(criterion='mse', max_de...</td>\n",
       "      <td>(DecisionTreeRegressor(criterion='mse', max_de...</td>\n",
       "      <td>LogisticRegression(C=1.0, class_weight=None, d...</td>\n",
       "    </tr>\n",
       "    <tr>\n",
       "      <th>pig</th>\n",
       "      <td>([DecisionTreeRegressor(criterion='friedman_ms...</td>\n",
       "      <td>(DecisionTreeRegressor(criterion='mse', max_de...</td>\n",
       "      <td>(DecisionTreeRegressor(criterion='mse', max_de...</td>\n",
       "      <td>LogisticRegression(C=1.0, class_weight=None, d...</td>\n",
       "    </tr>\n",
       "  </tbody>\n",
       "</table>\n",
       "</div>"
      ],
      "text/plain": [
       "                                 GradientBoostingRegressor  \\\n",
       "rat      ([DecisionTreeRegressor(criterion='friedman_ms...   \n",
       "ox       ([DecisionTreeRegressor(criterion='friedman_ms...   \n",
       "tiger    ([DecisionTreeRegressor(criterion='friedman_ms...   \n",
       "rabbit   ([DecisionTreeRegressor(criterion='friedman_ms...   \n",
       "dragon   ([DecisionTreeRegressor(criterion='friedman_ms...   \n",
       "snake    ([DecisionTreeRegressor(criterion='friedman_ms...   \n",
       "horse    ([DecisionTreeRegressor(criterion='friedman_ms...   \n",
       "goat     ([DecisionTreeRegressor(criterion='friedman_ms...   \n",
       "monkey   ([DecisionTreeRegressor(criterion='friedman_ms...   \n",
       "rooster  ([DecisionTreeRegressor(criterion='friedman_ms...   \n",
       "dog      ([DecisionTreeRegressor(criterion='friedman_ms...   \n",
       "pig      ([DecisionTreeRegressor(criterion='friedman_ms...   \n",
       "\n",
       "                                     RandomForestRegressor  \\\n",
       "rat      (DecisionTreeRegressor(criterion='mse', max_de...   \n",
       "ox       (DecisionTreeRegressor(criterion='mse', max_de...   \n",
       "tiger    (DecisionTreeRegressor(criterion='mse', max_de...   \n",
       "rabbit   (DecisionTreeRegressor(criterion='mse', max_de...   \n",
       "dragon   (DecisionTreeRegressor(criterion='mse', max_de...   \n",
       "snake    (DecisionTreeRegressor(criterion='mse', max_de...   \n",
       "horse    (DecisionTreeRegressor(criterion='mse', max_de...   \n",
       "goat     (DecisionTreeRegressor(criterion='mse', max_de...   \n",
       "monkey   (DecisionTreeRegressor(criterion='mse', max_de...   \n",
       "rooster  (DecisionTreeRegressor(criterion='mse', max_de...   \n",
       "dog      (DecisionTreeRegressor(criterion='mse', max_de...   \n",
       "pig      (DecisionTreeRegressor(criterion='mse', max_de...   \n",
       "\n",
       "                                         AdaBoostRegressor  \\\n",
       "rat      (DecisionTreeRegressor(criterion='mse', max_de...   \n",
       "ox       (DecisionTreeRegressor(criterion='mse', max_de...   \n",
       "tiger    (DecisionTreeRegressor(criterion='mse', max_de...   \n",
       "rabbit   (DecisionTreeRegressor(criterion='mse', max_de...   \n",
       "dragon   (DecisionTreeRegressor(criterion='mse', max_de...   \n",
       "snake    (DecisionTreeRegressor(criterion='mse', max_de...   \n",
       "horse    (DecisionTreeRegressor(criterion='mse', max_de...   \n",
       "goat     (DecisionTreeRegressor(criterion='mse', max_de...   \n",
       "monkey   (DecisionTreeRegressor(criterion='mse', max_de...   \n",
       "rooster  (DecisionTreeRegressor(criterion='mse', max_de...   \n",
       "dog      (DecisionTreeRegressor(criterion='mse', max_de...   \n",
       "pig      (DecisionTreeRegressor(criterion='mse', max_de...   \n",
       "\n",
       "                                        LogisticRegression  \n",
       "rat      LogisticRegression(C=1.0, class_weight=None, d...  \n",
       "ox       LogisticRegression(C=1.0, class_weight=None, d...  \n",
       "tiger    LogisticRegression(C=1.0, class_weight=None, d...  \n",
       "rabbit   LogisticRegression(C=1.0, class_weight=None, d...  \n",
       "dragon   LogisticRegression(C=1.0, class_weight=None, d...  \n",
       "snake    LogisticRegression(C=1.0, class_weight=None, d...  \n",
       "horse    LogisticRegression(C=1.0, class_weight=None, d...  \n",
       "goat     LogisticRegression(C=1.0, class_weight=None, d...  \n",
       "monkey   LogisticRegression(C=1.0, class_weight=None, d...  \n",
       "rooster  LogisticRegression(C=1.0, class_weight=None, d...  \n",
       "dog      LogisticRegression(C=1.0, class_weight=None, d...  \n",
       "pig      LogisticRegression(C=1.0, class_weight=None, d...  "
      ]
     },
     "execution_count": 128,
     "metadata": {},
     "output_type": "execute_result"
    }
   ],
   "source": [
    "rggs_fitted_df"
   ]
  },
  {
   "cell_type": "code",
   "execution_count": 129,
   "metadata": {},
   "outputs": [],
   "source": [
    "def compare_rggs(animal):\n",
    "\n",
    "#given name of animal, generates dataframe comparing classifiers \n",
    "\n",
    "    return pd.DataFrame([(rgg_fitted.__class__.__name__\n",
    "                          ,rgg_fitted.score(X_test[Y_time_test[animal]>0], \n",
    "                                            Y_time_test[animal][Y_time_test[animal]>0])\n",
    "                         ) for rgg_fitted in rggs_fitted_df.loc[animal]]\n",
    "                           ,columns=['regressor', 'acc']).set_index('regressor')"
   ]
  },
  {
   "cell_type": "code",
   "execution_count": 130,
   "metadata": {},
   "outputs": [],
   "source": [
    "# %%debug\n",
    "\n",
    "rgg_all_animals = pd.concat([compare_rggs(animal) for animal in animal_list], axis=1, keys=animal_list)"
   ]
  },
  {
   "cell_type": "code",
   "execution_count": 131,
   "metadata": {},
   "outputs": [
    {
     "data": {
      "text/html": [
       "<div>\n",
       "<style scoped>\n",
       "    .dataframe tbody tr th:only-of-type {\n",
       "        vertical-align: middle;\n",
       "    }\n",
       "\n",
       "    .dataframe tbody tr th {\n",
       "        vertical-align: top;\n",
       "    }\n",
       "\n",
       "    .dataframe thead tr th {\n",
       "        text-align: left;\n",
       "    }\n",
       "\n",
       "    .dataframe thead tr:last-of-type th {\n",
       "        text-align: right;\n",
       "    }\n",
       "</style>\n",
       "<table border=\"1\" class=\"dataframe\">\n",
       "  <thead>\n",
       "    <tr>\n",
       "      <th></th>\n",
       "      <th>rat</th>\n",
       "      <th>ox</th>\n",
       "      <th>tiger</th>\n",
       "      <th>rabbit</th>\n",
       "      <th>dragon</th>\n",
       "      <th>snake</th>\n",
       "      <th>horse</th>\n",
       "      <th>goat</th>\n",
       "      <th>monkey</th>\n",
       "      <th>rooster</th>\n",
       "      <th>dog</th>\n",
       "      <th>pig</th>\n",
       "    </tr>\n",
       "    <tr>\n",
       "      <th></th>\n",
       "      <th>acc</th>\n",
       "      <th>acc</th>\n",
       "      <th>acc</th>\n",
       "      <th>acc</th>\n",
       "      <th>acc</th>\n",
       "      <th>acc</th>\n",
       "      <th>acc</th>\n",
       "      <th>acc</th>\n",
       "      <th>acc</th>\n",
       "      <th>acc</th>\n",
       "      <th>acc</th>\n",
       "      <th>acc</th>\n",
       "    </tr>\n",
       "    <tr>\n",
       "      <th>regressor</th>\n",
       "      <th></th>\n",
       "      <th></th>\n",
       "      <th></th>\n",
       "      <th></th>\n",
       "      <th></th>\n",
       "      <th></th>\n",
       "      <th></th>\n",
       "      <th></th>\n",
       "      <th></th>\n",
       "      <th></th>\n",
       "      <th></th>\n",
       "      <th></th>\n",
       "    </tr>\n",
       "  </thead>\n",
       "  <tbody>\n",
       "    <tr>\n",
       "      <th>GradientBoostingRegressor</th>\n",
       "      <td>0.999336</td>\n",
       "      <td>0.997087</td>\n",
       "      <td>0.998621</td>\n",
       "      <td>0.996339</td>\n",
       "      <td>0.999030</td>\n",
       "      <td>0.999410</td>\n",
       "      <td>0.998588</td>\n",
       "      <td>0.998521</td>\n",
       "      <td>0.999071</td>\n",
       "      <td>0.997623</td>\n",
       "      <td>0.999233</td>\n",
       "      <td>0.997425</td>\n",
       "    </tr>\n",
       "    <tr>\n",
       "      <th>RandomForestRegressor</th>\n",
       "      <td>0.997263</td>\n",
       "      <td>0.989626</td>\n",
       "      <td>0.994195</td>\n",
       "      <td>0.987017</td>\n",
       "      <td>0.996955</td>\n",
       "      <td>0.997685</td>\n",
       "      <td>0.993579</td>\n",
       "      <td>0.991959</td>\n",
       "      <td>0.995345</td>\n",
       "      <td>0.991754</td>\n",
       "      <td>0.997001</td>\n",
       "      <td>0.985776</td>\n",
       "    </tr>\n",
       "    <tr>\n",
       "      <th>AdaBoostRegressor</th>\n",
       "      <td>0.972030</td>\n",
       "      <td>0.913569</td>\n",
       "      <td>0.974342</td>\n",
       "      <td>0.903791</td>\n",
       "      <td>0.971302</td>\n",
       "      <td>0.981657</td>\n",
       "      <td>0.962413</td>\n",
       "      <td>0.958527</td>\n",
       "      <td>0.969469</td>\n",
       "      <td>0.961805</td>\n",
       "      <td>0.974336</td>\n",
       "      <td>0.929310</td>\n",
       "    </tr>\n",
       "    <tr>\n",
       "      <th>LogisticRegression</th>\n",
       "      <td>0.013371</td>\n",
       "      <td>0.016632</td>\n",
       "      <td>0.009954</td>\n",
       "      <td>0.012281</td>\n",
       "      <td>0.008853</td>\n",
       "      <td>0.011142</td>\n",
       "      <td>0.013581</td>\n",
       "      <td>0.012632</td>\n",
       "      <td>0.009600</td>\n",
       "      <td>0.007394</td>\n",
       "      <td>0.010048</td>\n",
       "      <td>0.009443</td>\n",
       "    </tr>\n",
       "  </tbody>\n",
       "</table>\n",
       "</div>"
      ],
      "text/plain": [
       "                                rat        ox     tiger    rabbit    dragon  \\\n",
       "                                acc       acc       acc       acc       acc   \n",
       "regressor                                                                     \n",
       "GradientBoostingRegressor  0.999336  0.997087  0.998621  0.996339  0.999030   \n",
       "RandomForestRegressor      0.997263  0.989626  0.994195  0.987017  0.996955   \n",
       "AdaBoostRegressor          0.972030  0.913569  0.974342  0.903791  0.971302   \n",
       "LogisticRegression         0.013371  0.016632  0.009954  0.012281  0.008853   \n",
       "\n",
       "                              snake     horse      goat    monkey   rooster  \\\n",
       "                                acc       acc       acc       acc       acc   \n",
       "regressor                                                                     \n",
       "GradientBoostingRegressor  0.999410  0.998588  0.998521  0.999071  0.997623   \n",
       "RandomForestRegressor      0.997685  0.993579  0.991959  0.995345  0.991754   \n",
       "AdaBoostRegressor          0.981657  0.962413  0.958527  0.969469  0.961805   \n",
       "LogisticRegression         0.011142  0.013581  0.012632  0.009600  0.007394   \n",
       "\n",
       "                                dog       pig  \n",
       "                                acc       acc  \n",
       "regressor                                      \n",
       "GradientBoostingRegressor  0.999233  0.997425  \n",
       "RandomForestRegressor      0.997001  0.985776  \n",
       "AdaBoostRegressor          0.974336  0.929310  \n",
       "LogisticRegression         0.010048  0.009443  "
      ]
     },
     "execution_count": 131,
     "metadata": {},
     "output_type": "execute_result"
    }
   ],
   "source": [
    "rgg_all_animals"
   ]
  },
  {
   "cell_type": "code",
   "execution_count": 132,
   "metadata": {},
   "outputs": [
    {
     "name": "stdout",
     "output_type": "stream",
     "text": [
      "best rgg: GradientBoostingRegressor\n"
     ]
    }
   ],
   "source": [
    "best_rggs = rgg_all_animals.idxmax()\n",
    "\n",
    "name_rgg_dict = {rgg.__class__.__name__:rgg for rgg in regressors}\n",
    "best_rggs.value_counts()\n",
    "\n",
    "best_rgg = name_rgg_dict[best_rggs.mode().loc[0]]\n",
    "print('best rgg: {}'.format(best_rgg.__class__.__name__))"
   ]
  },
  {
   "cell_type": "markdown",
   "metadata": {},
   "source": [
    "## Predict top3 using regression\n",
    "### Compare results vs using classifer technique to predict top 3"
   ]
  },
  {
   "cell_type": "code",
   "execution_count": 135,
   "metadata": {},
   "outputs": [],
   "source": [
    "def pred_time(X, best_rgg):\n",
    "# rgg_fitted_series: series of fitted (single) regressor for all all animals \n",
    "# returns dataframe of predicted timings for all animals given input data X \n",
    "    return pd.DataFrame([rggs_fitted_df.loc[animal,best_rgg.__class__.__name__].predict(X) for animal in animal_list], \n",
    "                        index=animal_list,\n",
    "                        columns=X.index\n",
    "                       ).T\n",
    "    \n",
    "\n",
    "def pred_top3_rgg(X, best_rgg):\n",
    "# returns dataframe Y of (one-hot) indicator of whether animal finished in top3\n",
    "    return pred_time(X_test, best_rgg).apply(lambda row: row.nsmallest(3) ,axis=1).notnull().reindex(animal_list, axis=1)\n",
    "    \n",
    "\n",
    "def pred_top3_clf(X, best_clf):\n",
    "# returns dataframe Y of (one-hot) indicator of whether animal finished in top3\n",
    "    return pd.DataFrame([clfs_fitted_df.loc[animal,best_clf.__class__.__name__]\n",
    "                         .predict(X) for animal in animal_list],\n",
    "                        index=animal_list,\n",
    "                        columns=X.index\n",
    "                       ).T"
   ]
  },
  {
   "cell_type": "code",
   "execution_count": 136,
   "metadata": {
    "scrolled": true
   },
   "outputs": [],
   "source": [
    "pred_top3_clf_df = pred_top3_clf(X_test, best_clf)\n",
    "pred_top3_rgg_df= pred_top3_rgg(X_test,best_rgg)"
   ]
  },
  {
   "cell_type": "code",
   "execution_count": 137,
   "metadata": {
    "scrolled": true
   },
   "outputs": [
    {
     "name": "stdout",
     "output_type": "stream",
     "text": [
      "Accuracy in predicting whether animal finishes in top3: \n",
      "       Using Regression: 0.8409499999999999 \n",
      "       Using Classification: 0.9549499999999999 \n",
      " \n"
     ]
    }
   ],
   "source": [
    "print(\"Accuracy in predicting whether animal finishes in top3: \\n \\\n",
    "      Using Regression: {} \\n \\\n",
    "      Using Classification: {} \\n \"\n",
    "      .format((Y_top3_test == pred_top3_rgg_df).mean().mean(),\n",
    "              (Y_top3_test == pred_top3_clf_df).mean().mean())\n",
    "     )"
   ]
  },
  {
   "cell_type": "markdown",
   "metadata": {},
   "source": [
    "## Predict top 3 finishers in order using:\n",
    "\n",
    "\n",
    "### Method 1\n",
    "Pure regression: regression, then sort by timings. Pick only top 3. Compare against original top3 finishers.\n",
    "\n",
    "### Method 2\n",
    "Classification to pick animals predicted to finish in top3, then sort by timings \n",
    "If < 3 finishers are predicted to be in top3, choose next fastest timing from animal not predicted in top3"
   ]
  },
  {
   "cell_type": "code",
   "execution_count": 146,
   "metadata": {},
   "outputs": [],
   "source": [
    "#Generate test ranked top3 set\n",
    "\n",
    "#Correct rankings\n",
    "Y_rank_test = Y_time_test[Y_time_test>0].rank(axis=1)[animal_list]\n",
    "X_rank_test = X_test"
   ]
  },
  {
   "cell_type": "code",
   "execution_count": null,
   "metadata": {},
   "outputs": [],
   "source": [
    "#Method 1\n",
    "\n",
    "#Dataframe of predicted rankings using regression\n",
    "pred_rank_rgg = pred_time(X_rank_test, best_rgg).rank(axis=1).apply(lambda row: row.nsmallest(3) ,axis=1).reindex(animal_list, axis=1)"
   ]
  },
  {
   "cell_type": "code",
   "execution_count": 157,
   "metadata": {
    "scrolled": false
   },
   "outputs": [
    {
     "name": "stdout",
     "output_type": "stream",
     "text": [
      "0    3535\n",
      "3    3009\n",
      "1    2207\n",
      "2    1249\n",
      "dtype: int64\n",
      "Proportion of all 3 correct  0.3009\n"
     ]
    }
   ],
   "source": [
    "#number of positions predicted correctly for each entry\n",
    "correct_counts = (pred_rank_rgg==Y_rank_test).sum(axis=1).value_counts()\n",
    "print(correct_counts_m1)\n",
    "print(\"Proportion of all 3 correct using m1\", correct_counts_m1[3]/correct_counts_m1.sum())\n",
    "\n",
    "#proportion of times where all top3 rankings where predicted correctly\n",
    "rank_acc_rgg = ((pred_rank_rgg==Y_rank_test).sum(axis=1)==3).mean()"
   ]
  },
  {
   "cell_type": "code",
   "execution_count": 149,
   "metadata": {
    "scrolled": true
   },
   "outputs": [],
   "source": [
    "#Method 2\n",
    "\n",
    "def pred_rank_m2(X, best_rgg, best_clf):\n",
    "    pred_rank = pred_time(X, best_rgg).rank(axis=1)\n",
    "    pred_top3_clf_df = pred_top3_clf(X, best_clf)\n",
    "    \n",
    "    #ranking(using timings from rgg) of animals predicted by clf to finish in top 3 \n",
    "    intop3_ranked = pred_rank[pred_top3_clf_df.astype(bool)]\n",
    "    outtop3_ranked = pred_rank[~pred_top3_clf_df.astype(bool)] + 12\n",
    "    \n",
    "    return  intop3_ranked.fillna(outtop3_ranked).apply(lambda row: row.nsmallest(3) ,axis=1) \\\n",
    "            .reindex(animal_list, axis=1).rank(axis=1)\n"
   ]
  },
  {
   "cell_type": "code",
   "execution_count": 150,
   "metadata": {},
   "outputs": [],
   "source": [
    "pred_rank_m2_df = pred_rank_m2(X_rank_test, best_rgg, best_clf)"
   ]
  },
  {
   "cell_type": "code",
   "execution_count": 158,
   "metadata": {
    "scrolled": false
   },
   "outputs": [
    {
     "name": "stdout",
     "output_type": "stream",
     "text": [
      "3    5328\n",
      "1    2242\n",
      "2    1971\n",
      "0     459\n",
      "dtype: int64\n",
      "Proportion of all 3 correct  0.5328\n"
     ]
    }
   ],
   "source": [
    "correct_counts_m2 = (pred_rank_m2_df==Y_rank_test).sum(axis=1).value_counts()\n",
    "print(correct_counts_m2)\n",
    "print(\"Proportion of all 3 correct using m2:\", correct_counts_m2[3]/correct_counts_m2.sum())"
   ]
  },
  {
   "cell_type": "code",
   "execution_count": 662,
   "metadata": {
    "scrolled": true
   },
   "outputs": [],
   "source": [
    "rank_acc_m2 = ((pred_rank_m2_df==Y_rank_test).sum(axis=1)==3).mean()"
   ]
  },
  {
   "cell_type": "code",
   "execution_count": 674,
   "metadata": {
    "scrolled": true
   },
   "outputs": [
    {
     "name": "stdout",
     "output_type": "stream",
     "text": [
      "fitting RandomForestClassifier to rat \n",
      "\n",
      "fitting RandomForestClassifier to ox \n",
      "\n",
      "fitting RandomForestClassifier to tiger \n",
      "\n",
      "fitting RandomForestClassifier to rabbit \n",
      "\n",
      "fitting RandomForestClassifier to dragon \n",
      "\n",
      "fitting RandomForestClassifier to snake \n",
      "\n",
      "fitting RandomForestClassifier to horse \n",
      "\n",
      "fitting RandomForestClassifier to goat \n",
      "\n",
      "fitting RandomForestClassifier to monkey \n",
      "\n",
      "fitting RandomForestClassifier to rooster \n",
      "\n",
      "fitting RandomForestClassifier to dog \n",
      "\n",
      "fitting RandomForestClassifier to pig \n",
      "\n",
      "fitting GradientBoostingRegressor to rat \n",
      "\n",
      "fitting GradientBoostingRegressor to ox \n",
      "\n",
      "fitting GradientBoostingRegressor to tiger \n",
      "\n",
      "fitting GradientBoostingRegressor to rabbit \n",
      "\n",
      "fitting GradientBoostingRegressor to dragon \n",
      "\n",
      "fitting GradientBoostingRegressor to snake \n",
      "\n",
      "fitting GradientBoostingRegressor to horse \n",
      "\n",
      "fitting GradientBoostingRegressor to goat \n",
      "\n",
      "fitting GradientBoostingRegressor to monkey \n",
      "\n",
      "fitting GradientBoostingRegressor to rooster \n",
      "\n",
      "fitting GradientBoostingRegressor to dog \n",
      "\n",
      "fitting GradientBoostingRegressor to pig \n",
      "\n"
     ]
    }
   ],
   "source": [
    "clfs_fitted_df = pd.DataFrame([[helper(clf, animal, X_scaled, Y_top3) for clf in copy.deepcopy([best_clf])] \n",
    "                                for animal in animal_list],\n",
    "                              columns= [best_clf.__class__.__name__],\n",
    "                              index = animal_list)\n",
    "\n",
    "rggs_fitted_df = pd.DataFrame([[helper_rgg(rgg, animal, X_scaled, Y_time) for rgg in copy.deepcopy([best_rgg])] \n",
    "                                for animal in animal_list]\n",
    "                               ,columns= [best_rgg.__class__.__name__]\n",
    "                               ,index = animal_list)\n",
    "\n"
   ]
  },
  {
   "cell_type": "code",
   "execution_count": 676,
   "metadata": {
    "scrolled": true
   },
   "outputs": [
    {
     "data": {
      "text/html": [
       "<div>\n",
       "<style scoped>\n",
       "    .dataframe tbody tr th:only-of-type {\n",
       "        vertical-align: middle;\n",
       "    }\n",
       "\n",
       "    .dataframe tbody tr th {\n",
       "        vertical-align: top;\n",
       "    }\n",
       "\n",
       "    .dataframe thead th {\n",
       "        text-align: right;\n",
       "    }\n",
       "</style>\n",
       "<table border=\"1\" class=\"dataframe\">\n",
       "  <thead>\n",
       "    <tr style=\"text-align: right;\">\n",
       "      <th></th>\n",
       "      <th>rat</th>\n",
       "      <th>ox</th>\n",
       "      <th>tiger</th>\n",
       "      <th>rabbit</th>\n",
       "      <th>dragon</th>\n",
       "      <th>snake</th>\n",
       "      <th>horse</th>\n",
       "      <th>goat</th>\n",
       "      <th>monkey</th>\n",
       "      <th>rooster</th>\n",
       "      <th>dog</th>\n",
       "      <th>pig</th>\n",
       "    </tr>\n",
       "  </thead>\n",
       "  <tbody>\n",
       "    <tr>\n",
       "      <th>0</th>\n",
       "      <td>NaN</td>\n",
       "      <td>1.0</td>\n",
       "      <td>NaN</td>\n",
       "      <td>2.0</td>\n",
       "      <td>NaN</td>\n",
       "      <td>NaN</td>\n",
       "      <td>NaN</td>\n",
       "      <td>NaN</td>\n",
       "      <td>NaN</td>\n",
       "      <td>NaN</td>\n",
       "      <td>NaN</td>\n",
       "      <td>3.0</td>\n",
       "    </tr>\n",
       "  </tbody>\n",
       "</table>\n",
       "</div>"
      ],
      "text/plain": [
       "   rat   ox  tiger  rabbit  dragon  snake  horse  goat  monkey  rooster  dog  \\\n",
       "0  NaN  1.0    NaN     2.0     NaN    NaN    NaN   NaN     NaN      NaN  NaN   \n",
       "\n",
       "   pig  \n",
       "0  3.0  "
      ]
     },
     "execution_count": 676,
     "metadata": {},
     "output_type": "execute_result"
    }
   ],
   "source": [
    "X_submit = pd.DataFrame([[2345, 8764, 6689, 7332, 1050, 3741, 40]], columns=X_test.columns[:7])\n",
    "X_submit['Is_Raining']=0\n",
    "X_submit['Total_distance']= X_submit.loc[::7].sum(axis=1)\n",
    "\n",
    "pred_rank_m2(X_submit, best_rgg, best_clf)"
   ]
  },
  {
   "cell_type": "code",
   "execution_count": 700,
   "metadata": {},
   "outputs": [],
   "source": [
    "a = [i for i in range(10)]\n",
    "b=a\n"
   ]
  },
  {
   "cell_type": "code",
   "execution_count": 701,
   "metadata": {},
   "outputs": [],
   "source": [
    "b=b + [2]"
   ]
  },
  {
   "cell_type": "code",
   "execution_count": 703,
   "metadata": {},
   "outputs": [
    {
     "data": {
      "text/plain": [
       "[0, 1, 2, 3, 4, 5, 6, 7, 8, 9]"
      ]
     },
     "execution_count": 703,
     "metadata": {},
     "output_type": "execute_result"
    }
   ],
   "source": [
    "a"
   ]
  }
 ],
 "metadata": {
  "kernelspec": {
   "display_name": "Python 3",
   "language": "python",
   "name": "python3"
  },
  "language_info": {
   "codemirror_mode": {
    "name": "ipython",
    "version": 3
   },
   "file_extension": ".py",
   "mimetype": "text/x-python",
   "name": "python",
   "nbconvert_exporter": "python",
   "pygments_lexer": "ipython3",
   "version": "3.7.1"
  }
 },
 "nbformat": 4,
 "nbformat_minor": 1
}
