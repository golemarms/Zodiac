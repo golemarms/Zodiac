{
 "cells": [
  {
   "cell_type": "code",
   "execution_count": 630,
   "metadata": {
    "_uuid": "ba44df08389a6574049bb67a7e0b9cda80b4ee3c"
   },
   "outputs": [],
   "source": [
    "#suppress warnings\n",
    "import warnings\n",
    "warnings.simplefilter(action='ignore', category=FutureWarning)\n",
    "\n",
    "\n",
    "import pickle\n",
    "# Import the relevant libraries\n",
    "import pandas as pd\n",
    "import numpy as np\n",
    "import matplotlib.pyplot as plt\n",
    "%matplotlib inline\n",
    "\n",
    "z_file = \"./The_Zodiac_Race_Challenge_Dataset.csv\"\n",
    "z_df = pd.read_csv(z_file)\n",
    "\n",
    "# Remove wrong col\n",
    "z_df.drop('Had_A_Good_Sleep', axis=1, inplace=True)\n",
    "\n",
    "X = z_df.iloc[:, :8]\n",
    "Y = z_df.iloc[:, 8:]\n",
    "\n",
    "animal_list = ['rat', 'ox', 'tiger', 'rabbit', 'dragon', 'snake', \n",
    "               'horse', 'goat', 'monkey', 'rooster', 'dog', 'pig']\n",
    "\n",
    "top_3 = ['Winner', 'Second', 'Third']\n",
    "\n",
    "#Generate df (one-hot encoded) indicating whether each animal (column) finishes in the top 3\n",
    "\n",
    "Y_top3 = pd.DataFrame({animal:z_df[top_3].isin([animal]).apply(sum, axis=1) for animal in animal_list}).astype(bool)\n",
    "\n",
    "# Data preprocessing\n",
    "\n",
    "# Engineer Features\n",
    "# Total distance:\n",
    "\n",
    "X.eval('Total_distance = Desert + Mountain + Water + Land + Forest + Snow', inplace= True)\n",
    "\n",
    "X['Is_Raining'] = X['Is_Raining'].map({'Yes':1, 'No':0}) \n",
    "\n"
   ]
  },
  {
   "cell_type": "code",
   "execution_count": 631,
   "metadata": {
    "_uuid": "ba44df08389a6574049bb67a7e0b9cda80b4ee3c"
   },
   "outputs": [],
   "source": [
    "# scale data\n",
    "X_scaled = (X - X.min()) / (X.max() - X.min())\n",
    "# X_scaled = (X - X.mean())/X.std()"
   ]
  },
  {
   "cell_type": "code",
   "execution_count": 632,
   "metadata": {
    "_uuid": "3558e4d6beee9e902ee5e4c081adcec91cbd146b"
   },
   "outputs": [],
   "source": [
    "from sklearn.model_selection import train_test_split\n",
    "\n",
    "from sklearn.model_selection import StratifiedShuffleSplit\n",
    "from sklearn.metrics import accuracy_score, log_loss\n",
    "from sklearn.neighbors import KNeighborsClassifier\n",
    "from sklearn.svm import SVC\n",
    "from sklearn.tree import DecisionTreeClassifier\n",
    "from sklearn.ensemble import RandomForestClassifier, AdaBoostClassifier, GradientBoostingClassifier\n",
    "from sklearn.naive_bayes import GaussianNB\n",
    "from sklearn.discriminant_analysis import LinearDiscriminantAnalysis, QuadraticDiscriminantAnalysis\n",
    "from sklearn.linear_model import LogisticRegression\n",
    "import copy"
   ]
  },
  {
   "cell_type": "code",
   "execution_count": 633,
   "metadata": {
    "_uuid": "274bae21e84f340d49de106b7260d74e8f188b10"
   },
   "outputs": [],
   "source": [
    "def get_time(top3_series, animal):\n",
    "\n",
    "# INPUTS\n",
    "# animal: name of animal\n",
    "# top3_series: 6-entry series which represent top 3 animals and their finishing times: \n",
    "# [Winner, Winner_Time, Second, Second_Time ,Third, Third_Time]\n",
    "# *Each row of Y is such a series\n",
    "\n",
    "# OUTPUTS\n",
    "# finishing time\n",
    "\n",
    "\n",
    "    bool_arr = (top3_series==animal)\n",
    "    \n",
    "    map_dict = { 'Winner': 'Winner_Time',\n",
    "                 'Second': 'Second_Time',\n",
    "                 'Third' : 'Third_Time'\n",
    "                }\n",
    "    \n",
    "    if any(bool_arr):\n",
    "\n",
    "        return top3_series[map_dict[(top3_series==animal).idxmax()]]\n",
    "     \n",
    "    else:\n",
    "        return np.nan"
   ]
  },
  {
   "cell_type": "code",
   "execution_count": 634,
   "metadata": {},
   "outputs": [],
   "source": [
    "regen_timings = False\n",
    "\n",
    "if regen_timings:\n",
    "    \n",
    "    Y_time = pd.DataFrame([[get_time(row[1], animal) for animal in animal_list] for row in Y.iterrows()],\n",
    "                              columns= animal_list)\n",
    "    \n",
    "    pickle.dump(Y_time, open(\"Y_time\", 'wb') )\n",
    "\n",
    "else:\n",
    "    Y_time= pickle.load(open(\"Y_time\", 'rb'))"
   ]
  },
  {
   "cell_type": "code",
   "execution_count": 635,
   "metadata": {
    "_uuid": "c230fbc5891d6d71f4a05af0dd90fa09f965fd31"
   },
   "outputs": [],
   "source": [
    "#1st stage:\n",
    "#Predict whether each animal finishes in top 3\n",
    "\n",
    "\n",
    "#split into training and test sets\n",
    "X_train, X_test, Y_top3_train, Y_top3_test, Y_time_train, Y_time_test = train_test_split(X_scaled, Y_top3.astype(int), Y_time, random_state=0)"
   ]
  },
  {
   "cell_type": "code",
   "execution_count": 636,
   "metadata": {
    "_uuid": "c230fbc5891d6d71f4a05af0dd90fa09f965fd31"
   },
   "outputs": [],
   "source": [
    "def acc_top3(clf_fitted, X_test, y_test):\n",
    "    \n",
    "#get accurracy of predicting top3 finishes (how well does classifier predict a true \"top 3\" label?)\n",
    "#leaving out the majority of instances without a \"top3\" label\n",
    "#clf: FITTED classifier\n",
    "\n",
    "    y_test_intop3 = y_test[y_test==1]\n",
    "    X_test_intop3 = X_test[y_test==1]\n",
    "    \n",
    "    y_pred_intop3= clf_fitted.predict(X_test_intop3)\n",
    "    \n",
    "    return y_pred_intop3.mean()"
   ]
  },
  {
   "cell_type": "code",
   "execution_count": 637,
   "metadata": {
    "_uuid": "3cc7e3275858b062355ffce823c1e91cfbf03a0c"
   },
   "outputs": [],
   "source": [
    "classifiers = [\n",
    "    KNeighborsClassifier(3),\n",
    "    SVC(probability=True),\n",
    "    DecisionTreeClassifier(),\n",
    "    RandomForestClassifier(random_state=0),\n",
    "    AdaBoostClassifier(),\n",
    "    GradientBoostingClassifier(),\n",
    "    GaussianNB(),\n",
    "    LinearDiscriminantAnalysis(),\n",
    "#     QuadraticDiscriminantAnalysis(),\n",
    "    LogisticRegression()\n",
    "    ]\n",
    "\n",
    "\n",
    "clf_names = [clf.__class__.__name__ for clf in classifiers]"
   ]
  },
  {
   "cell_type": "code",
   "execution_count": 638,
   "metadata": {
    "_uuid": "2d37c56f9268ee7c48ee6f9d80228ee39cd83d28"
   },
   "outputs": [
    {
     "name": "stdout",
     "output_type": "stream",
     "text": [
      "fitting KNeighborsClassifier to rat \n",
      "\n",
      "fitting SVC to rat \n",
      "\n",
      "fitting DecisionTreeClassifier to rat \n",
      "\n",
      "fitting RandomForestClassifier to rat \n",
      "\n",
      "fitting AdaBoostClassifier to rat \n",
      "\n",
      "fitting GradientBoostingClassifier to rat \n",
      "\n",
      "fitting GaussianNB to rat \n",
      "\n",
      "fitting LinearDiscriminantAnalysis to rat \n",
      "\n",
      "fitting LogisticRegression to rat \n",
      "\n",
      "fitting KNeighborsClassifier to ox \n",
      "\n",
      "fitting SVC to ox \n",
      "\n"
     ]
    },
    {
     "name": "stderr",
     "output_type": "stream",
     "text": [
      "C:\\Users\\Ivan\\Anaconda3\\lib\\site-packages\\sklearn\\discriminant_analysis.py:388: UserWarning: Variables are collinear.\n",
      "  warnings.warn(\"Variables are collinear.\")\n"
     ]
    },
    {
     "name": "stdout",
     "output_type": "stream",
     "text": [
      "fitting DecisionTreeClassifier to ox \n",
      "\n",
      "fitting RandomForestClassifier to ox \n",
      "\n",
      "fitting AdaBoostClassifier to ox \n",
      "\n",
      "fitting GradientBoostingClassifier to ox \n",
      "\n",
      "fitting GaussianNB to ox \n",
      "\n",
      "fitting LinearDiscriminantAnalysis to ox \n",
      "\n",
      "fitting LogisticRegression to ox \n",
      "\n",
      "fitting KNeighborsClassifier to tiger \n",
      "\n",
      "fitting SVC to tiger \n",
      "\n"
     ]
    },
    {
     "name": "stderr",
     "output_type": "stream",
     "text": [
      "C:\\Users\\Ivan\\Anaconda3\\lib\\site-packages\\sklearn\\discriminant_analysis.py:388: UserWarning: Variables are collinear.\n",
      "  warnings.warn(\"Variables are collinear.\")\n"
     ]
    },
    {
     "name": "stdout",
     "output_type": "stream",
     "text": [
      "fitting DecisionTreeClassifier to tiger \n",
      "\n",
      "fitting RandomForestClassifier to tiger \n",
      "\n",
      "fitting AdaBoostClassifier to tiger \n",
      "\n",
      "fitting GradientBoostingClassifier to tiger \n",
      "\n",
      "fitting GaussianNB to tiger \n",
      "\n",
      "fitting LinearDiscriminantAnalysis to tiger \n",
      "\n",
      "fitting LogisticRegression to tiger \n",
      "\n",
      "fitting KNeighborsClassifier to rabbit \n",
      "\n",
      "fitting SVC to rabbit \n",
      "\n"
     ]
    },
    {
     "name": "stderr",
     "output_type": "stream",
     "text": [
      "C:\\Users\\Ivan\\Anaconda3\\lib\\site-packages\\sklearn\\discriminant_analysis.py:388: UserWarning: Variables are collinear.\n",
      "  warnings.warn(\"Variables are collinear.\")\n"
     ]
    },
    {
     "name": "stdout",
     "output_type": "stream",
     "text": [
      "fitting DecisionTreeClassifier to rabbit \n",
      "\n",
      "fitting RandomForestClassifier to rabbit \n",
      "\n",
      "fitting AdaBoostClassifier to rabbit \n",
      "\n",
      "fitting GradientBoostingClassifier to rabbit \n",
      "\n",
      "fitting GaussianNB to rabbit \n",
      "\n",
      "fitting LinearDiscriminantAnalysis to rabbit \n",
      "\n",
      "fitting LogisticRegression to rabbit \n",
      "\n",
      "fitting KNeighborsClassifier to dragon \n",
      "\n",
      "fitting SVC to dragon \n",
      "\n"
     ]
    },
    {
     "name": "stderr",
     "output_type": "stream",
     "text": [
      "C:\\Users\\Ivan\\Anaconda3\\lib\\site-packages\\sklearn\\discriminant_analysis.py:388: UserWarning: Variables are collinear.\n",
      "  warnings.warn(\"Variables are collinear.\")\n"
     ]
    },
    {
     "name": "stdout",
     "output_type": "stream",
     "text": [
      "fitting DecisionTreeClassifier to dragon \n",
      "\n",
      "fitting RandomForestClassifier to dragon \n",
      "\n",
      "fitting AdaBoostClassifier to dragon \n",
      "\n",
      "fitting GradientBoostingClassifier to dragon \n",
      "\n",
      "fitting GaussianNB to dragon \n",
      "\n",
      "fitting LinearDiscriminantAnalysis to dragon \n",
      "\n",
      "fitting LogisticRegression to dragon \n",
      "\n",
      "fitting KNeighborsClassifier to snake \n",
      "\n",
      "fitting SVC to snake \n",
      "\n"
     ]
    },
    {
     "name": "stderr",
     "output_type": "stream",
     "text": [
      "C:\\Users\\Ivan\\Anaconda3\\lib\\site-packages\\sklearn\\discriminant_analysis.py:388: UserWarning: Variables are collinear.\n",
      "  warnings.warn(\"Variables are collinear.\")\n"
     ]
    },
    {
     "name": "stdout",
     "output_type": "stream",
     "text": [
      "fitting DecisionTreeClassifier to snake \n",
      "\n",
      "fitting RandomForestClassifier to snake \n",
      "\n",
      "fitting AdaBoostClassifier to snake \n",
      "\n",
      "fitting GradientBoostingClassifier to snake \n",
      "\n",
      "fitting GaussianNB to snake \n",
      "\n",
      "fitting LinearDiscriminantAnalysis to snake \n",
      "\n",
      "fitting LogisticRegression to snake \n",
      "\n",
      "fitting KNeighborsClassifier to horse \n",
      "\n",
      "fitting SVC to horse \n",
      "\n"
     ]
    },
    {
     "name": "stderr",
     "output_type": "stream",
     "text": [
      "C:\\Users\\Ivan\\Anaconda3\\lib\\site-packages\\sklearn\\discriminant_analysis.py:388: UserWarning: Variables are collinear.\n",
      "  warnings.warn(\"Variables are collinear.\")\n"
     ]
    },
    {
     "name": "stdout",
     "output_type": "stream",
     "text": [
      "fitting DecisionTreeClassifier to horse \n",
      "\n",
      "fitting RandomForestClassifier to horse \n",
      "\n",
      "fitting AdaBoostClassifier to horse \n",
      "\n",
      "fitting GradientBoostingClassifier to horse \n",
      "\n",
      "fitting GaussianNB to horse \n",
      "\n",
      "fitting LinearDiscriminantAnalysis to horse \n",
      "\n",
      "fitting LogisticRegression to horse \n",
      "\n",
      "fitting KNeighborsClassifier to goat \n",
      "\n",
      "fitting SVC to goat \n",
      "\n"
     ]
    },
    {
     "name": "stderr",
     "output_type": "stream",
     "text": [
      "C:\\Users\\Ivan\\Anaconda3\\lib\\site-packages\\sklearn\\discriminant_analysis.py:388: UserWarning: Variables are collinear.\n",
      "  warnings.warn(\"Variables are collinear.\")\n"
     ]
    },
    {
     "name": "stdout",
     "output_type": "stream",
     "text": [
      "fitting DecisionTreeClassifier to goat \n",
      "\n",
      "fitting RandomForestClassifier to goat \n",
      "\n",
      "fitting AdaBoostClassifier to goat \n",
      "\n",
      "fitting GradientBoostingClassifier to goat \n",
      "\n",
      "fitting GaussianNB to goat \n",
      "\n",
      "fitting LinearDiscriminantAnalysis to goat \n",
      "\n",
      "fitting LogisticRegression to goat \n",
      "\n",
      "fitting KNeighborsClassifier to monkey \n",
      "\n",
      "fitting SVC to monkey \n",
      "\n"
     ]
    },
    {
     "name": "stderr",
     "output_type": "stream",
     "text": [
      "C:\\Users\\Ivan\\Anaconda3\\lib\\site-packages\\sklearn\\discriminant_analysis.py:388: UserWarning: Variables are collinear.\n",
      "  warnings.warn(\"Variables are collinear.\")\n"
     ]
    },
    {
     "name": "stdout",
     "output_type": "stream",
     "text": [
      "fitting DecisionTreeClassifier to monkey \n",
      "\n",
      "fitting RandomForestClassifier to monkey \n",
      "\n",
      "fitting AdaBoostClassifier to monkey \n",
      "\n",
      "fitting GradientBoostingClassifier to monkey \n",
      "\n",
      "fitting GaussianNB to monkey \n",
      "\n",
      "fitting LinearDiscriminantAnalysis to monkey \n",
      "\n",
      "fitting LogisticRegression to monkey \n",
      "\n",
      "fitting KNeighborsClassifier to rooster \n",
      "\n",
      "fitting SVC to rooster \n",
      "\n"
     ]
    },
    {
     "name": "stderr",
     "output_type": "stream",
     "text": [
      "C:\\Users\\Ivan\\Anaconda3\\lib\\site-packages\\sklearn\\discriminant_analysis.py:388: UserWarning: Variables are collinear.\n",
      "  warnings.warn(\"Variables are collinear.\")\n"
     ]
    },
    {
     "name": "stdout",
     "output_type": "stream",
     "text": [
      "fitting DecisionTreeClassifier to rooster \n",
      "\n",
      "fitting RandomForestClassifier to rooster \n",
      "\n",
      "fitting AdaBoostClassifier to rooster \n",
      "\n",
      "fitting GradientBoostingClassifier to rooster \n",
      "\n",
      "fitting GaussianNB to rooster \n",
      "\n",
      "fitting LinearDiscriminantAnalysis to rooster \n",
      "\n",
      "fitting LogisticRegression to rooster \n",
      "\n",
      "fitting KNeighborsClassifier to dog \n",
      "\n",
      "fitting SVC to dog \n",
      "\n"
     ]
    },
    {
     "name": "stderr",
     "output_type": "stream",
     "text": [
      "C:\\Users\\Ivan\\Anaconda3\\lib\\site-packages\\sklearn\\discriminant_analysis.py:388: UserWarning: Variables are collinear.\n",
      "  warnings.warn(\"Variables are collinear.\")\n"
     ]
    },
    {
     "name": "stdout",
     "output_type": "stream",
     "text": [
      "fitting DecisionTreeClassifier to dog \n",
      "\n",
      "fitting RandomForestClassifier to dog \n",
      "\n",
      "fitting AdaBoostClassifier to dog \n",
      "\n",
      "fitting GradientBoostingClassifier to dog \n",
      "\n",
      "fitting GaussianNB to dog \n",
      "\n",
      "fitting LinearDiscriminantAnalysis to dog \n",
      "\n",
      "fitting LogisticRegression to dog \n",
      "\n",
      "fitting KNeighborsClassifier to pig \n",
      "\n",
      "fitting SVC to pig \n",
      "\n"
     ]
    },
    {
     "name": "stderr",
     "output_type": "stream",
     "text": [
      "C:\\Users\\Ivan\\Anaconda3\\lib\\site-packages\\sklearn\\discriminant_analysis.py:388: UserWarning: Variables are collinear.\n",
      "  warnings.warn(\"Variables are collinear.\")\n"
     ]
    },
    {
     "name": "stdout",
     "output_type": "stream",
     "text": [
      "fitting DecisionTreeClassifier to pig \n",
      "\n",
      "fitting RandomForestClassifier to pig \n",
      "\n",
      "fitting AdaBoostClassifier to pig \n",
      "\n",
      "fitting GradientBoostingClassifier to pig \n",
      "\n",
      "fitting GaussianNB to pig \n",
      "\n",
      "fitting LinearDiscriminantAnalysis to pig \n",
      "\n",
      "fitting LogisticRegression to pig \n",
      "\n"
     ]
    },
    {
     "name": "stderr",
     "output_type": "stream",
     "text": [
      "C:\\Users\\Ivan\\Anaconda3\\lib\\site-packages\\sklearn\\discriminant_analysis.py:388: UserWarning: Variables are collinear.\n",
      "  warnings.warn(\"Variables are collinear.\")\n"
     ]
    }
   ],
   "source": [
    "refit_clfs = False\n",
    "\n",
    "def helper(clf, animal, X_train, Y_top3_train):\n",
    "    \n",
    "    print('fitting {} to {} \\n'.format(clf.__class__.__name__, animal))\n",
    "    return clf.fit(X_train, Y_top3_train[animal])\n",
    "\n",
    "if refit_clfs==True:\n",
    "    clfs_fitted_df = pd.DataFrame([[helper(clf, animal, X_train, Y_top3_train) for clf in copy.deepcopy(classifiers)] \n",
    "                                    for animal in animal_list],\n",
    "                                  columns= clf_names,\n",
    "                                  index = animal_list)\n",
    "    pickle.dump(clfs_fitted_df, open(\"clfs_fitted_df\", 'wb') )\n",
    "\n",
    "else:\n",
    "    clfs_fitted_df= pickle.load(open(\"clfs_fitted_df\", 'rb'))\n"
   ]
  },
  {
   "cell_type": "code",
   "execution_count": 639,
   "metadata": {
    "_uuid": "423eff0401b012f4095da566cd596f5835732e35"
   },
   "outputs": [],
   "source": [
    "def compare_clfs(animal):\n",
    "\n",
    "#given name of animal, generates dataframe comparing classifiers \n",
    "\n",
    "    return pd.DataFrame([(clf_fitted.__class__.__name__\n",
    "                          ,clf_fitted.score(X_test, Y_top3_test[animal])\n",
    "#                           ,acc_top3(clf_fitted, X_test, Y_top3_test[animal])\n",
    "                         ) for clf_fitted in clfs_fitted_df.loc[animal]]\n",
    "                           ,columns=['classifier', 'acc']).set_index('classifier')"
   ]
  },
  {
   "cell_type": "code",
   "execution_count": 640,
   "metadata": {
    "_uuid": "423eff0401b012f4095da566cd596f5835732e35",
    "scrolled": true
   },
   "outputs": [
    {
     "data": {
      "text/html": [
       "<div>\n",
       "<style scoped>\n",
       "    .dataframe tbody tr th:only-of-type {\n",
       "        vertical-align: middle;\n",
       "    }\n",
       "\n",
       "    .dataframe tbody tr th {\n",
       "        vertical-align: top;\n",
       "    }\n",
       "\n",
       "    .dataframe thead tr th {\n",
       "        text-align: left;\n",
       "    }\n",
       "\n",
       "    .dataframe thead tr:last-of-type th {\n",
       "        text-align: right;\n",
       "    }\n",
       "</style>\n",
       "<table border=\"1\" class=\"dataframe\">\n",
       "  <thead>\n",
       "    <tr>\n",
       "      <th></th>\n",
       "      <th>rat</th>\n",
       "      <th>ox</th>\n",
       "      <th>tiger</th>\n",
       "      <th>rabbit</th>\n",
       "      <th>dragon</th>\n",
       "      <th>snake</th>\n",
       "      <th>horse</th>\n",
       "      <th>goat</th>\n",
       "      <th>monkey</th>\n",
       "      <th>rooster</th>\n",
       "      <th>dog</th>\n",
       "      <th>pig</th>\n",
       "    </tr>\n",
       "    <tr>\n",
       "      <th></th>\n",
       "      <th>acc</th>\n",
       "      <th>acc</th>\n",
       "      <th>acc</th>\n",
       "      <th>acc</th>\n",
       "      <th>acc</th>\n",
       "      <th>acc</th>\n",
       "      <th>acc</th>\n",
       "      <th>acc</th>\n",
       "      <th>acc</th>\n",
       "      <th>acc</th>\n",
       "      <th>acc</th>\n",
       "      <th>acc</th>\n",
       "    </tr>\n",
       "    <tr>\n",
       "      <th>classifier</th>\n",
       "      <th></th>\n",
       "      <th></th>\n",
       "      <th></th>\n",
       "      <th></th>\n",
       "      <th></th>\n",
       "      <th></th>\n",
       "      <th></th>\n",
       "      <th></th>\n",
       "      <th></th>\n",
       "      <th></th>\n",
       "      <th></th>\n",
       "      <th></th>\n",
       "    </tr>\n",
       "  </thead>\n",
       "  <tbody>\n",
       "    <tr>\n",
       "      <th>KNeighborsClassifier</th>\n",
       "      <td>0.8972</td>\n",
       "      <td>0.9364</td>\n",
       "      <td>0.9082</td>\n",
       "      <td>0.9409</td>\n",
       "      <td>0.9247</td>\n",
       "      <td>0.8777</td>\n",
       "      <td>0.9061</td>\n",
       "      <td>0.9166</td>\n",
       "      <td>0.9053</td>\n",
       "      <td>0.9475</td>\n",
       "      <td>0.9036</td>\n",
       "      <td>0.9273</td>\n",
       "    </tr>\n",
       "    <tr>\n",
       "      <th>SVC</th>\n",
       "      <td>0.9022</td>\n",
       "      <td>0.9571</td>\n",
       "      <td>0.9084</td>\n",
       "      <td>0.9555</td>\n",
       "      <td>0.9291</td>\n",
       "      <td>0.8768</td>\n",
       "      <td>0.8813</td>\n",
       "      <td>0.9111</td>\n",
       "      <td>0.8817</td>\n",
       "      <td>0.9562</td>\n",
       "      <td>0.8977</td>\n",
       "      <td>0.9238</td>\n",
       "    </tr>\n",
       "    <tr>\n",
       "      <th>DecisionTreeClassifier</th>\n",
       "      <td>0.9238</td>\n",
       "      <td>0.9833</td>\n",
       "      <td>0.9208</td>\n",
       "      <td>0.9795</td>\n",
       "      <td>0.9241</td>\n",
       "      <td>0.9065</td>\n",
       "      <td>0.9197</td>\n",
       "      <td>0.9245</td>\n",
       "      <td>0.9173</td>\n",
       "      <td>0.9569</td>\n",
       "      <td>0.9272</td>\n",
       "      <td>0.9588</td>\n",
       "    </tr>\n",
       "    <tr>\n",
       "      <th>RandomForestClassifier</th>\n",
       "      <td>0.9456</td>\n",
       "      <td>0.9868</td>\n",
       "      <td>0.9421</td>\n",
       "      <td>0.9854</td>\n",
       "      <td>0.9484</td>\n",
       "      <td>0.9266</td>\n",
       "      <td>0.9465</td>\n",
       "      <td>0.9460</td>\n",
       "      <td>0.9438</td>\n",
       "      <td>0.9688</td>\n",
       "      <td>0.9483</td>\n",
       "      <td>0.9711</td>\n",
       "    </tr>\n",
       "    <tr>\n",
       "      <th>AdaBoostClassifier</th>\n",
       "      <td>0.9242</td>\n",
       "      <td>0.9783</td>\n",
       "      <td>0.9356</td>\n",
       "      <td>0.9786</td>\n",
       "      <td>0.9273</td>\n",
       "      <td>0.8959</td>\n",
       "      <td>0.9112</td>\n",
       "      <td>0.9298</td>\n",
       "      <td>0.8920</td>\n",
       "      <td>0.9634</td>\n",
       "      <td>0.9238</td>\n",
       "      <td>0.9546</td>\n",
       "    </tr>\n",
       "    <tr>\n",
       "      <th>GradientBoostingClassifier</th>\n",
       "      <td>0.9450</td>\n",
       "      <td>0.9851</td>\n",
       "      <td>0.9423</td>\n",
       "      <td>0.9852</td>\n",
       "      <td>0.9550</td>\n",
       "      <td>0.9241</td>\n",
       "      <td>0.9459</td>\n",
       "      <td>0.9493</td>\n",
       "      <td>0.9340</td>\n",
       "      <td>0.9695</td>\n",
       "      <td>0.9453</td>\n",
       "      <td>0.9667</td>\n",
       "    </tr>\n",
       "    <tr>\n",
       "      <th>GaussianNB</th>\n",
       "      <td>0.8443</td>\n",
       "      <td>0.9502</td>\n",
       "      <td>0.8654</td>\n",
       "      <td>0.9471</td>\n",
       "      <td>0.8960</td>\n",
       "      <td>0.8157</td>\n",
       "      <td>0.8630</td>\n",
       "      <td>0.8792</td>\n",
       "      <td>0.8481</td>\n",
       "      <td>0.9496</td>\n",
       "      <td>0.8519</td>\n",
       "      <td>0.8820</td>\n",
       "    </tr>\n",
       "    <tr>\n",
       "      <th>LinearDiscriminantAnalysis</th>\n",
       "      <td>0.7804</td>\n",
       "      <td>0.9445</td>\n",
       "      <td>0.8348</td>\n",
       "      <td>0.9379</td>\n",
       "      <td>0.9125</td>\n",
       "      <td>0.7187</td>\n",
       "      <td>0.8676</td>\n",
       "      <td>0.9000</td>\n",
       "      <td>0.8527</td>\n",
       "      <td>0.9441</td>\n",
       "      <td>0.7933</td>\n",
       "      <td>0.8690</td>\n",
       "    </tr>\n",
       "    <tr>\n",
       "      <th>LogisticRegression</th>\n",
       "      <td>0.7794</td>\n",
       "      <td>0.9467</td>\n",
       "      <td>0.8354</td>\n",
       "      <td>0.9408</td>\n",
       "      <td>0.9123</td>\n",
       "      <td>0.7190</td>\n",
       "      <td>0.8683</td>\n",
       "      <td>0.9002</td>\n",
       "      <td>0.8533</td>\n",
       "      <td>0.9504</td>\n",
       "      <td>0.7932</td>\n",
       "      <td>0.8683</td>\n",
       "    </tr>\n",
       "  </tbody>\n",
       "</table>\n",
       "</div>"
      ],
      "text/plain": [
       "                               rat      ox   tiger  rabbit  dragon   snake  \\\n",
       "                               acc     acc     acc     acc     acc     acc   \n",
       "classifier                                                                   \n",
       "KNeighborsClassifier        0.8972  0.9364  0.9082  0.9409  0.9247  0.8777   \n",
       "SVC                         0.9022  0.9571  0.9084  0.9555  0.9291  0.8768   \n",
       "DecisionTreeClassifier      0.9238  0.9833  0.9208  0.9795  0.9241  0.9065   \n",
       "RandomForestClassifier      0.9456  0.9868  0.9421  0.9854  0.9484  0.9266   \n",
       "AdaBoostClassifier          0.9242  0.9783  0.9356  0.9786  0.9273  0.8959   \n",
       "GradientBoostingClassifier  0.9450  0.9851  0.9423  0.9852  0.9550  0.9241   \n",
       "GaussianNB                  0.8443  0.9502  0.8654  0.9471  0.8960  0.8157   \n",
       "LinearDiscriminantAnalysis  0.7804  0.9445  0.8348  0.9379  0.9125  0.7187   \n",
       "LogisticRegression          0.7794  0.9467  0.8354  0.9408  0.9123  0.7190   \n",
       "\n",
       "                             horse    goat  monkey rooster     dog     pig  \n",
       "                               acc     acc     acc     acc     acc     acc  \n",
       "classifier                                                                  \n",
       "KNeighborsClassifier        0.9061  0.9166  0.9053  0.9475  0.9036  0.9273  \n",
       "SVC                         0.8813  0.9111  0.8817  0.9562  0.8977  0.9238  \n",
       "DecisionTreeClassifier      0.9197  0.9245  0.9173  0.9569  0.9272  0.9588  \n",
       "RandomForestClassifier      0.9465  0.9460  0.9438  0.9688  0.9483  0.9711  \n",
       "AdaBoostClassifier          0.9112  0.9298  0.8920  0.9634  0.9238  0.9546  \n",
       "GradientBoostingClassifier  0.9459  0.9493  0.9340  0.9695  0.9453  0.9667  \n",
       "GaussianNB                  0.8630  0.8792  0.8481  0.9496  0.8519  0.8820  \n",
       "LinearDiscriminantAnalysis  0.8676  0.9000  0.8527  0.9441  0.7933  0.8690  \n",
       "LogisticRegression          0.8683  0.9002  0.8533  0.9504  0.7932  0.8683  "
      ]
     },
     "execution_count": 640,
     "metadata": {},
     "output_type": "execute_result"
    }
   ],
   "source": [
    "clf_all_animals = pd.concat([compare_clfs(animal) for animal in animal_list], axis=1, keys=animal_list)\n",
    "# clf_all_animals.reindex((df.columns), axis=1)\n",
    "clf_all_animals"
   ]
  },
  {
   "cell_type": "code",
   "execution_count": 641,
   "metadata": {
    "scrolled": true
   },
   "outputs": [
    {
     "name": "stdout",
     "output_type": "stream",
     "text": [
      "best clf: RandomForestClassifier\n"
     ]
    }
   ],
   "source": [
    "# clf_all_animals=clf_all_animals.swaplevel(axis=1)\n",
    "# clf_all_animals.reindex(sorted(clf_all_animals.columns), axis=1)\n",
    "clf_all_animals.loc['best_clfs'] = clf_all_animals.idxmax()\n",
    "\n",
    "name_clf_dict = {clf.__class__.__name__:clf for clf in classifiers}\n",
    "clf_all_animals.loc['best_clfs'].value_counts()\n",
    "\n",
    "best_clf = name_clf_dict[clf_all_animals.loc['best_clfs'].mode().loc[0]]\n",
    "print('best clf: {}'.format(best_clf.__class__.__name__))"
   ]
  },
  {
   "cell_type": "code",
   "execution_count": 642,
   "metadata": {},
   "outputs": [],
   "source": [
    "from sklearn.ensemble import GradientBoostingRegressor, RandomForestRegressor, AdaBoostRegressor\n",
    "from sklearn.linear_model import LogisticRegression"
   ]
  },
  {
   "cell_type": "code",
   "execution_count": 643,
   "metadata": {},
   "outputs": [],
   "source": [
    "regressors = [\n",
    "#               GradientBoostingRegressor(),\n",
    "              GradientBoostingRegressor(n_estimators=1000, max_depth=5),\n",
    "              RandomForestRegressor(), \n",
    "              AdaBoostRegressor(),\n",
    "              LogisticRegression()\n",
    "             ]\n",
    "\n",
    "rgg_names = [rgg.__class__.__name__ for rgg in regressors]"
   ]
  },
  {
   "cell_type": "code",
   "execution_count": 665,
   "metadata": {},
   "outputs": [
    {
     "name": "stdout",
     "output_type": "stream",
     "text": [
      "fitting GradientBoostingRegressor to rat \n",
      "\n",
      "fitting RandomForestRegressor to rat \n",
      "\n",
      "fitting AdaBoostRegressor to rat \n",
      "\n",
      "fitting LogisticRegression to rat \n",
      "\n",
      "fitting GradientBoostingRegressor to ox \n",
      "\n",
      "fitting RandomForestRegressor to ox \n",
      "\n",
      "fitting AdaBoostRegressor to ox \n",
      "\n",
      "fitting LogisticRegression to ox \n",
      "\n",
      "fitting GradientBoostingRegressor to tiger \n",
      "\n",
      "fitting RandomForestRegressor to tiger \n",
      "\n",
      "fitting AdaBoostRegressor to tiger \n",
      "\n",
      "fitting LogisticRegression to tiger \n",
      "\n",
      "fitting GradientBoostingRegressor to rabbit \n",
      "\n",
      "fitting RandomForestRegressor to rabbit \n",
      "\n",
      "fitting AdaBoostRegressor to rabbit \n",
      "\n",
      "fitting LogisticRegression to rabbit \n",
      "\n",
      "fitting GradientBoostingRegressor to dragon \n",
      "\n",
      "fitting RandomForestRegressor to dragon \n",
      "\n",
      "fitting AdaBoostRegressor to dragon \n",
      "\n",
      "fitting LogisticRegression to dragon \n",
      "\n",
      "fitting GradientBoostingRegressor to snake \n",
      "\n",
      "fitting RandomForestRegressor to snake \n",
      "\n",
      "fitting AdaBoostRegressor to snake \n",
      "\n",
      "fitting LogisticRegression to snake \n",
      "\n",
      "fitting GradientBoostingRegressor to horse \n",
      "\n",
      "fitting RandomForestRegressor to horse \n",
      "\n",
      "fitting AdaBoostRegressor to horse \n",
      "\n",
      "fitting LogisticRegression to horse \n",
      "\n",
      "fitting GradientBoostingRegressor to goat \n",
      "\n",
      "fitting RandomForestRegressor to goat \n",
      "\n",
      "fitting AdaBoostRegressor to goat \n",
      "\n",
      "fitting LogisticRegression to goat \n",
      "\n",
      "fitting GradientBoostingRegressor to monkey \n",
      "\n",
      "fitting RandomForestRegressor to monkey \n",
      "\n",
      "fitting AdaBoostRegressor to monkey \n",
      "\n",
      "fitting LogisticRegression to monkey \n",
      "\n",
      "fitting GradientBoostingRegressor to rooster \n",
      "\n",
      "fitting RandomForestRegressor to rooster \n",
      "\n",
      "fitting AdaBoostRegressor to rooster \n",
      "\n",
      "fitting LogisticRegression to rooster \n",
      "\n",
      "fitting GradientBoostingRegressor to dog \n",
      "\n",
      "fitting RandomForestRegressor to dog \n",
      "\n",
      "fitting AdaBoostRegressor to dog \n",
      "\n",
      "fitting LogisticRegression to dog \n",
      "\n",
      "fitting GradientBoostingRegressor to pig \n",
      "\n",
      "fitting RandomForestRegressor to pig \n",
      "\n",
      "fitting AdaBoostRegressor to pig \n",
      "\n",
      "fitting LogisticRegression to pig \n",
      "\n"
     ]
    }
   ],
   "source": [
    "refit_rggs = True\n",
    "\n",
    "def helper_rgg(rgg, animal, X_train, Y_time_train):\n",
    "    \n",
    "    X_selected = X_train[~Y_time_train[animal].isnull()]\n",
    "    y_selected = Y_time_train[animal][~Y_time_train[animal].isnull()]\n",
    "\n",
    "    print('fitting {} to {} \\n'.format(rgg.__class__.__name__, animal))\n",
    "    return rgg.fit(X_selected, y_selected)\n",
    "\n",
    "if refit_rggs==True:\n",
    "    rggs_fitted_df = pd.DataFrame([[helper_rgg(rgg, animal, X_train, Y_time_train) for rgg in copy.deepcopy(regressors)] \n",
    "                                    for animal in animal_list]\n",
    "                                   ,columns= rgg_names\n",
    "                                   ,index = animal_list)\n",
    "    pickle.dump(rggs_fitted_df, open(\"rggs_fitted_df\", 'wb') )\n",
    "\n",
    "else:\n",
    "    rggs_fitted_df= pickle.load(open(\"rggs_fitted_df\", 'rb'))\n"
   ]
  },
  {
   "cell_type": "code",
   "execution_count": 666,
   "metadata": {
    "scrolled": true
   },
   "outputs": [
    {
     "data": {
      "text/html": [
       "<div>\n",
       "<style scoped>\n",
       "    .dataframe tbody tr th:only-of-type {\n",
       "        vertical-align: middle;\n",
       "    }\n",
       "\n",
       "    .dataframe tbody tr th {\n",
       "        vertical-align: top;\n",
       "    }\n",
       "\n",
       "    .dataframe thead th {\n",
       "        text-align: right;\n",
       "    }\n",
       "</style>\n",
       "<table border=\"1\" class=\"dataframe\">\n",
       "  <thead>\n",
       "    <tr style=\"text-align: right;\">\n",
       "      <th></th>\n",
       "      <th>GradientBoostingRegressor</th>\n",
       "      <th>RandomForestRegressor</th>\n",
       "      <th>AdaBoostRegressor</th>\n",
       "      <th>LogisticRegression</th>\n",
       "    </tr>\n",
       "  </thead>\n",
       "  <tbody>\n",
       "    <tr>\n",
       "      <th>rat</th>\n",
       "      <td>([DecisionTreeRegressor(criterion='friedman_ms...</td>\n",
       "      <td>(DecisionTreeRegressor(criterion='mse', max_de...</td>\n",
       "      <td>(DecisionTreeRegressor(criterion='mse', max_de...</td>\n",
       "      <td>LogisticRegression(C=1.0, class_weight=None, d...</td>\n",
       "    </tr>\n",
       "    <tr>\n",
       "      <th>ox</th>\n",
       "      <td>([DecisionTreeRegressor(criterion='friedman_ms...</td>\n",
       "      <td>(DecisionTreeRegressor(criterion='mse', max_de...</td>\n",
       "      <td>(DecisionTreeRegressor(criterion='mse', max_de...</td>\n",
       "      <td>LogisticRegression(C=1.0, class_weight=None, d...</td>\n",
       "    </tr>\n",
       "    <tr>\n",
       "      <th>tiger</th>\n",
       "      <td>([DecisionTreeRegressor(criterion='friedman_ms...</td>\n",
       "      <td>(DecisionTreeRegressor(criterion='mse', max_de...</td>\n",
       "      <td>(DecisionTreeRegressor(criterion='mse', max_de...</td>\n",
       "      <td>LogisticRegression(C=1.0, class_weight=None, d...</td>\n",
       "    </tr>\n",
       "    <tr>\n",
       "      <th>rabbit</th>\n",
       "      <td>([DecisionTreeRegressor(criterion='friedman_ms...</td>\n",
       "      <td>(DecisionTreeRegressor(criterion='mse', max_de...</td>\n",
       "      <td>(DecisionTreeRegressor(criterion='mse', max_de...</td>\n",
       "      <td>LogisticRegression(C=1.0, class_weight=None, d...</td>\n",
       "    </tr>\n",
       "    <tr>\n",
       "      <th>dragon</th>\n",
       "      <td>([DecisionTreeRegressor(criterion='friedman_ms...</td>\n",
       "      <td>(DecisionTreeRegressor(criterion='mse', max_de...</td>\n",
       "      <td>(DecisionTreeRegressor(criterion='mse', max_de...</td>\n",
       "      <td>LogisticRegression(C=1.0, class_weight=None, d...</td>\n",
       "    </tr>\n",
       "    <tr>\n",
       "      <th>snake</th>\n",
       "      <td>([DecisionTreeRegressor(criterion='friedman_ms...</td>\n",
       "      <td>(DecisionTreeRegressor(criterion='mse', max_de...</td>\n",
       "      <td>(DecisionTreeRegressor(criterion='mse', max_de...</td>\n",
       "      <td>LogisticRegression(C=1.0, class_weight=None, d...</td>\n",
       "    </tr>\n",
       "    <tr>\n",
       "      <th>horse</th>\n",
       "      <td>([DecisionTreeRegressor(criterion='friedman_ms...</td>\n",
       "      <td>(DecisionTreeRegressor(criterion='mse', max_de...</td>\n",
       "      <td>(DecisionTreeRegressor(criterion='mse', max_de...</td>\n",
       "      <td>LogisticRegression(C=1.0, class_weight=None, d...</td>\n",
       "    </tr>\n",
       "    <tr>\n",
       "      <th>goat</th>\n",
       "      <td>([DecisionTreeRegressor(criterion='friedman_ms...</td>\n",
       "      <td>(DecisionTreeRegressor(criterion='mse', max_de...</td>\n",
       "      <td>(DecisionTreeRegressor(criterion='mse', max_de...</td>\n",
       "      <td>LogisticRegression(C=1.0, class_weight=None, d...</td>\n",
       "    </tr>\n",
       "    <tr>\n",
       "      <th>monkey</th>\n",
       "      <td>([DecisionTreeRegressor(criterion='friedman_ms...</td>\n",
       "      <td>(DecisionTreeRegressor(criterion='mse', max_de...</td>\n",
       "      <td>(DecisionTreeRegressor(criterion='mse', max_de...</td>\n",
       "      <td>LogisticRegression(C=1.0, class_weight=None, d...</td>\n",
       "    </tr>\n",
       "    <tr>\n",
       "      <th>rooster</th>\n",
       "      <td>([DecisionTreeRegressor(criterion='friedman_ms...</td>\n",
       "      <td>(DecisionTreeRegressor(criterion='mse', max_de...</td>\n",
       "      <td>(DecisionTreeRegressor(criterion='mse', max_de...</td>\n",
       "      <td>LogisticRegression(C=1.0, class_weight=None, d...</td>\n",
       "    </tr>\n",
       "    <tr>\n",
       "      <th>dog</th>\n",
       "      <td>([DecisionTreeRegressor(criterion='friedman_ms...</td>\n",
       "      <td>(DecisionTreeRegressor(criterion='mse', max_de...</td>\n",
       "      <td>(DecisionTreeRegressor(criterion='mse', max_de...</td>\n",
       "      <td>LogisticRegression(C=1.0, class_weight=None, d...</td>\n",
       "    </tr>\n",
       "    <tr>\n",
       "      <th>pig</th>\n",
       "      <td>([DecisionTreeRegressor(criterion='friedman_ms...</td>\n",
       "      <td>(DecisionTreeRegressor(criterion='mse', max_de...</td>\n",
       "      <td>(DecisionTreeRegressor(criterion='mse', max_de...</td>\n",
       "      <td>LogisticRegression(C=1.0, class_weight=None, d...</td>\n",
       "    </tr>\n",
       "  </tbody>\n",
       "</table>\n",
       "</div>"
      ],
      "text/plain": [
       "                                 GradientBoostingRegressor  \\\n",
       "rat      ([DecisionTreeRegressor(criterion='friedman_ms...   \n",
       "ox       ([DecisionTreeRegressor(criterion='friedman_ms...   \n",
       "tiger    ([DecisionTreeRegressor(criterion='friedman_ms...   \n",
       "rabbit   ([DecisionTreeRegressor(criterion='friedman_ms...   \n",
       "dragon   ([DecisionTreeRegressor(criterion='friedman_ms...   \n",
       "snake    ([DecisionTreeRegressor(criterion='friedman_ms...   \n",
       "horse    ([DecisionTreeRegressor(criterion='friedman_ms...   \n",
       "goat     ([DecisionTreeRegressor(criterion='friedman_ms...   \n",
       "monkey   ([DecisionTreeRegressor(criterion='friedman_ms...   \n",
       "rooster  ([DecisionTreeRegressor(criterion='friedman_ms...   \n",
       "dog      ([DecisionTreeRegressor(criterion='friedman_ms...   \n",
       "pig      ([DecisionTreeRegressor(criterion='friedman_ms...   \n",
       "\n",
       "                                     RandomForestRegressor  \\\n",
       "rat      (DecisionTreeRegressor(criterion='mse', max_de...   \n",
       "ox       (DecisionTreeRegressor(criterion='mse', max_de...   \n",
       "tiger    (DecisionTreeRegressor(criterion='mse', max_de...   \n",
       "rabbit   (DecisionTreeRegressor(criterion='mse', max_de...   \n",
       "dragon   (DecisionTreeRegressor(criterion='mse', max_de...   \n",
       "snake    (DecisionTreeRegressor(criterion='mse', max_de...   \n",
       "horse    (DecisionTreeRegressor(criterion='mse', max_de...   \n",
       "goat     (DecisionTreeRegressor(criterion='mse', max_de...   \n",
       "monkey   (DecisionTreeRegressor(criterion='mse', max_de...   \n",
       "rooster  (DecisionTreeRegressor(criterion='mse', max_de...   \n",
       "dog      (DecisionTreeRegressor(criterion='mse', max_de...   \n",
       "pig      (DecisionTreeRegressor(criterion='mse', max_de...   \n",
       "\n",
       "                                         AdaBoostRegressor  \\\n",
       "rat      (DecisionTreeRegressor(criterion='mse', max_de...   \n",
       "ox       (DecisionTreeRegressor(criterion='mse', max_de...   \n",
       "tiger    (DecisionTreeRegressor(criterion='mse', max_de...   \n",
       "rabbit   (DecisionTreeRegressor(criterion='mse', max_de...   \n",
       "dragon   (DecisionTreeRegressor(criterion='mse', max_de...   \n",
       "snake    (DecisionTreeRegressor(criterion='mse', max_de...   \n",
       "horse    (DecisionTreeRegressor(criterion='mse', max_de...   \n",
       "goat     (DecisionTreeRegressor(criterion='mse', max_de...   \n",
       "monkey   (DecisionTreeRegressor(criterion='mse', max_de...   \n",
       "rooster  (DecisionTreeRegressor(criterion='mse', max_de...   \n",
       "dog      (DecisionTreeRegressor(criterion='mse', max_de...   \n",
       "pig      (DecisionTreeRegressor(criterion='mse', max_de...   \n",
       "\n",
       "                                        LogisticRegression  \n",
       "rat      LogisticRegression(C=1.0, class_weight=None, d...  \n",
       "ox       LogisticRegression(C=1.0, class_weight=None, d...  \n",
       "tiger    LogisticRegression(C=1.0, class_weight=None, d...  \n",
       "rabbit   LogisticRegression(C=1.0, class_weight=None, d...  \n",
       "dragon   LogisticRegression(C=1.0, class_weight=None, d...  \n",
       "snake    LogisticRegression(C=1.0, class_weight=None, d...  \n",
       "horse    LogisticRegression(C=1.0, class_weight=None, d...  \n",
       "goat     LogisticRegression(C=1.0, class_weight=None, d...  \n",
       "monkey   LogisticRegression(C=1.0, class_weight=None, d...  \n",
       "rooster  LogisticRegression(C=1.0, class_weight=None, d...  \n",
       "dog      LogisticRegression(C=1.0, class_weight=None, d...  \n",
       "pig      LogisticRegression(C=1.0, class_weight=None, d...  "
      ]
     },
     "execution_count": 666,
     "metadata": {},
     "output_type": "execute_result"
    }
   ],
   "source": [
    "rggs_fitted_df"
   ]
  },
  {
   "cell_type": "code",
   "execution_count": 667,
   "metadata": {},
   "outputs": [],
   "source": [
    "def compare_rggs(animal):\n",
    "\n",
    "#given name of animal, generates dataframe comparing classifiers \n",
    "\n",
    "    return pd.DataFrame([(rgg_fitted.__class__.__name__\n",
    "                          ,rgg_fitted.score(X_train[~Y_time_train[animal].isnull()], \n",
    "                                            Y_time_train[animal][~Y_time_train[animal].isnull()])\n",
    "                         ) for rgg_fitted in rggs_fitted_df.loc[animal]]\n",
    "                           ,columns=['regressor', 'acc']).set_index('regressor')"
   ]
  },
  {
   "cell_type": "code",
   "execution_count": 668,
   "metadata": {},
   "outputs": [],
   "source": [
    "rgg_all_animals = pd.concat([compare_rggs(animal) for animal in animal_list], axis=1, keys=animal_list)\n",
    "rgg_all_animals.loc['best_rggs'] = rgg_all_animals.idxmax()"
   ]
  },
  {
   "cell_type": "code",
   "execution_count": 669,
   "metadata": {
    "scrolled": true
   },
   "outputs": [
    {
     "name": "stdout",
     "output_type": "stream",
     "text": [
      "best rgg: GradientBoostingRegressor\n"
     ]
    }
   ],
   "source": [
    "name_rgg_dict = {rgg.__class__.__name__:rgg for rgg in regressors}\n",
    "rgg_all_animals.loc['best_rggs'].value_counts()\n",
    "\n",
    "best_rgg = name_rgg_dict[rgg_all_animals.loc['best_rggs'].mode().loc[0]]\n",
    "print('best rgg: {}'.format(best_rgg.__class__.__name__))"
   ]
  },
  {
   "cell_type": "code",
   "execution_count": 649,
   "metadata": {},
   "outputs": [],
   "source": [
    "# Predict top3 using regression\n",
    "# Compare results vs using classifer technique to predict top 3\n",
    "\n",
    "def pred_time(X, best_rgg):\n",
    "# rgg_fitted_series: series of fitted (single) regressor for all all animals \n",
    "# returns dataframe Y predicted timings\n",
    "    return pd.DataFrame([rggs_fitted_df.loc[animal,best_rgg.__class__.__name__].predict(X) for animal in animal_list], \n",
    "                        index=animal_list,\n",
    "                        columns=X.index\n",
    "                       ).T\n",
    "    \n",
    "    "
   ]
  },
  {
   "cell_type": "code",
   "execution_count": 650,
   "metadata": {},
   "outputs": [],
   "source": [
    "def pred_top3_rgg(X, best_rgg):\n",
    "# returns dataframe Y of (one-hot) indicator of whether animal finished in top3\n",
    "    return pred_time(X_test, best_rgg).apply(lambda row: row.nsmallest(3) ,axis=1).notnull().reindex(animal_list, axis=1)\n",
    "    "
   ]
  },
  {
   "cell_type": "code",
   "execution_count": 651,
   "metadata": {
    "scrolled": true
   },
   "outputs": [],
   "source": [
    "def pred_top3_clf(X, best_clf):\n",
    "# returns dataframe Y of (one-hot) indicator of whether animal finished in top3\n",
    "    return pd.DataFrame([clfs_fitted_df.loc[animal,best_clf.__class__.__name__]\n",
    "                         .predict(X) for animal in animal_list],\n",
    "                        index=animal_list,\n",
    "                        columns=X.index\n",
    "                       ).T"
   ]
  },
  {
   "cell_type": "code",
   "execution_count": 652,
   "metadata": {
    "scrolled": true
   },
   "outputs": [],
   "source": [
    "pred_top3_clf_df = pred_top3_clf(X_test, best_clf)"
   ]
  },
  {
   "cell_type": "code",
   "execution_count": 653,
   "metadata": {
    "scrolled": false
   },
   "outputs": [],
   "source": [
    "pred_top3_rgg_df= pred_top3_rgg(X_test,best_rgg)"
   ]
  },
  {
   "cell_type": "code",
   "execution_count": 654,
   "metadata": {},
   "outputs": [
    {
     "name": "stdout",
     "output_type": "stream",
     "text": [
      "Accuracy in predicting whether animal finishes in top3 \n",
      "Using Regression: 0.7658 \n",
      "Using Classification: 0.9549499999999999\n"
     ]
    }
   ],
   "source": [
    "print(\"Accuracy in predicting whether animal finishes in top3 \\nUsing Regression: {} \\nUsing Classification: {}\" \\\n",
    "      .format((Y_top3_test == pred_top3_rgg_df).mean().mean(),(Y_top3_test == pred_top3_clf_df).mean().mean())\n",
    "     )"
   ]
  },
  {
   "cell_type": "code",
   "execution_count": 655,
   "metadata": {},
   "outputs": [],
   "source": [
    "# Predict top 3 finihers in order using\n",
    "\n",
    "# Method 1\n",
    "# Pure regression: regression, then sort by timings\n",
    "\n",
    "# Method 2\n",
    "# Classification to pick animals predicted to finish in top3, then sort by timings \n",
    "# If < 3 finishers are predicted to be in top3, choose next fastest timing from animal not predicted in top3"
   ]
  },
  {
   "cell_type": "code",
   "execution_count": 656,
   "metadata": {},
   "outputs": [],
   "source": [
    "#Generate test rank set, entries where animals are tied\n",
    "\n",
    "Y_rank_test = Y_time_test.rank(axis=1)\n",
    "X_rank_test = X_test"
   ]
  },
  {
   "cell_type": "code",
   "execution_count": 657,
   "metadata": {},
   "outputs": [],
   "source": [
    "# # Remove entries where 2 or more of the top3 finishers are tied\n",
    "# tied = Y_rank_test.mode(axis=1)[2].isnull()\n",
    "\n",
    "# Y_rank_test = Y_rank_test[~tied]\n",
    "# X_rank_test = X_test[~tied]"
   ]
  },
  {
   "cell_type": "code",
   "execution_count": 658,
   "metadata": {
    "scrolled": false
   },
   "outputs": [
    {
     "name": "stdout",
     "output_type": "stream",
     "text": [
      "0    5552\n",
      "1    2086\n",
      "3    1358\n",
      "2    1004\n",
      "dtype: int64\n"
     ]
    }
   ],
   "source": [
    "#Method 1\n",
    "\n",
    "#Dataframe of predicting rankings using regression\n",
    "pred_rank_rgg = pred_time(X_rank_test, best_rgg).rank(axis=1).apply(lambda row: row.nsmallest(3) ,axis=1).reindex(animal_list, axis=1)\n",
    "\n",
    "#number of positions predicted correctly for each entry\n",
    "print((pred_rank_rgg==Y_rank_test).sum(axis=1).value_counts())\n",
    "\n",
    "#proportion of times where all top3 rankings where predicted correctly\n",
    "rank_acc_rgg = ((pred_rank_rgg==Y_rank_test).sum(axis=1)==3).mean()"
   ]
  },
  {
   "cell_type": "code",
   "execution_count": 659,
   "metadata": {
    "scrolled": true
   },
   "outputs": [],
   "source": [
    "#Method 2\n",
    "\n",
    "def pred_rank_m2(X, best_rgg, best_clf):\n",
    "    pred_rank = pred_time(X, best_rgg).rank(axis=1)\n",
    "    pred_top3_clf_df = pred_top3_clf(X, best_clf)\n",
    "    \n",
    "    #ranking(using timings from rgg) of animals predicted by clf to finish in top 3 \n",
    "    intop3_ranked = pred_rank[pred_top3_clf_df.astype(bool)]\n",
    "    outtop3_ranked = pred_rank[~pred_top3_clf_df.astype(bool)] + 12\n",
    "    \n",
    "    return  intop3_ranked.fillna(outtop3_ranked).apply(lambda row: row.nsmallest(3) ,axis=1) \\\n",
    "            .reindex(animal_list, axis=1).rank(axis=1)\n"
   ]
  },
  {
   "cell_type": "code",
   "execution_count": 660,
   "metadata": {},
   "outputs": [],
   "source": [
    "pred_rank_m2_df = pred_rank_m2(X_rank_test, best_rgg, best_clf)"
   ]
  },
  {
   "cell_type": "code",
   "execution_count": 661,
   "metadata": {
    "scrolled": true
   },
   "outputs": [
    {
     "name": "stdout",
     "output_type": "stream",
     "text": [
      "3    3971\n",
      "1    2953\n",
      "2    2087\n",
      "0     989\n",
      "dtype: int64\n"
     ]
    }
   ],
   "source": [
    "print((pred_rank_m2_df==Y_rank_test).sum(axis=1).value_counts())"
   ]
  },
  {
   "cell_type": "code",
   "execution_count": 662,
   "metadata": {
    "scrolled": true
   },
   "outputs": [],
   "source": [
    "rank_acc_m2 = ((pred_rank_m2_df==Y_rank_test).sum(axis=1)==3).mean()"
   ]
  },
  {
   "cell_type": "code",
   "execution_count": 674,
   "metadata": {
    "scrolled": true
   },
   "outputs": [
    {
     "name": "stdout",
     "output_type": "stream",
     "text": [
      "fitting RandomForestClassifier to rat \n",
      "\n",
      "fitting RandomForestClassifier to ox \n",
      "\n",
      "fitting RandomForestClassifier to tiger \n",
      "\n",
      "fitting RandomForestClassifier to rabbit \n",
      "\n",
      "fitting RandomForestClassifier to dragon \n",
      "\n",
      "fitting RandomForestClassifier to snake \n",
      "\n",
      "fitting RandomForestClassifier to horse \n",
      "\n",
      "fitting RandomForestClassifier to goat \n",
      "\n",
      "fitting RandomForestClassifier to monkey \n",
      "\n",
      "fitting RandomForestClassifier to rooster \n",
      "\n",
      "fitting RandomForestClassifier to dog \n",
      "\n",
      "fitting RandomForestClassifier to pig \n",
      "\n",
      "fitting GradientBoostingRegressor to rat \n",
      "\n",
      "fitting GradientBoostingRegressor to ox \n",
      "\n",
      "fitting GradientBoostingRegressor to tiger \n",
      "\n",
      "fitting GradientBoostingRegressor to rabbit \n",
      "\n",
      "fitting GradientBoostingRegressor to dragon \n",
      "\n",
      "fitting GradientBoostingRegressor to snake \n",
      "\n",
      "fitting GradientBoostingRegressor to horse \n",
      "\n",
      "fitting GradientBoostingRegressor to goat \n",
      "\n",
      "fitting GradientBoostingRegressor to monkey \n",
      "\n",
      "fitting GradientBoostingRegressor to rooster \n",
      "\n",
      "fitting GradientBoostingRegressor to dog \n",
      "\n",
      "fitting GradientBoostingRegressor to pig \n",
      "\n"
     ]
    }
   ],
   "source": [
    "clfs_fitted_df = pd.DataFrame([[helper(clf, animal, X_scaled, Y_top3) for clf in copy.deepcopy([best_clf])] \n",
    "                                for animal in animal_list],\n",
    "                              columns= [best_clf.__class__.__name__],\n",
    "                              index = animal_list)\n",
    "\n",
    "rggs_fitted_df = pd.DataFrame([[helper_rgg(rgg, animal, X_scaled, Y_time) for rgg in copy.deepcopy([best_rgg])] \n",
    "                                for animal in animal_list]\n",
    "                               ,columns= [best_rgg.__class__.__name__]\n",
    "                               ,index = animal_list)\n",
    "\n"
   ]
  },
  {
   "cell_type": "code",
   "execution_count": 676,
   "metadata": {},
   "outputs": [
    {
     "data": {
      "text/html": [
       "<div>\n",
       "<style scoped>\n",
       "    .dataframe tbody tr th:only-of-type {\n",
       "        vertical-align: middle;\n",
       "    }\n",
       "\n",
       "    .dataframe tbody tr th {\n",
       "        vertical-align: top;\n",
       "    }\n",
       "\n",
       "    .dataframe thead th {\n",
       "        text-align: right;\n",
       "    }\n",
       "</style>\n",
       "<table border=\"1\" class=\"dataframe\">\n",
       "  <thead>\n",
       "    <tr style=\"text-align: right;\">\n",
       "      <th></th>\n",
       "      <th>rat</th>\n",
       "      <th>ox</th>\n",
       "      <th>tiger</th>\n",
       "      <th>rabbit</th>\n",
       "      <th>dragon</th>\n",
       "      <th>snake</th>\n",
       "      <th>horse</th>\n",
       "      <th>goat</th>\n",
       "      <th>monkey</th>\n",
       "      <th>rooster</th>\n",
       "      <th>dog</th>\n",
       "      <th>pig</th>\n",
       "    </tr>\n",
       "  </thead>\n",
       "  <tbody>\n",
       "    <tr>\n",
       "      <th>0</th>\n",
       "      <td>NaN</td>\n",
       "      <td>1.0</td>\n",
       "      <td>NaN</td>\n",
       "      <td>2.0</td>\n",
       "      <td>NaN</td>\n",
       "      <td>NaN</td>\n",
       "      <td>NaN</td>\n",
       "      <td>NaN</td>\n",
       "      <td>NaN</td>\n",
       "      <td>NaN</td>\n",
       "      <td>NaN</td>\n",
       "      <td>3.0</td>\n",
       "    </tr>\n",
       "  </tbody>\n",
       "</table>\n",
       "</div>"
      ],
      "text/plain": [
       "   rat   ox  tiger  rabbit  dragon  snake  horse  goat  monkey  rooster  dog  \\\n",
       "0  NaN  1.0    NaN     2.0     NaN    NaN    NaN   NaN     NaN      NaN  NaN   \n",
       "\n",
       "   pig  \n",
       "0  3.0  "
      ]
     },
     "execution_count": 676,
     "metadata": {},
     "output_type": "execute_result"
    }
   ],
   "source": [
    "X_submit = pd.DataFrame([[2345, 8764, 6689, 7332, 1050, 3741, 40]], columns=X_test.columns[:7])\n",
    "X_submit['Is_Raining']=0\n",
    "X_submit['Total_distance']= X_submit.loc[::7].sum(axis=1)\n",
    "\n",
    "pred_rank_m2(X_submit, best_rgg, best_clf)"
   ]
  }
 ],
 "metadata": {
  "kernelspec": {
   "display_name": "Python 3",
   "language": "python",
   "name": "python3"
  },
  "language_info": {
   "codemirror_mode": {
    "name": "ipython",
    "version": 3
   },
   "file_extension": ".py",
   "mimetype": "text/x-python",
   "name": "python",
   "nbconvert_exporter": "python",
   "pygments_lexer": "ipython3",
   "version": "3.7.1"
  }
 },
 "nbformat": 4,
 "nbformat_minor": 1
}
